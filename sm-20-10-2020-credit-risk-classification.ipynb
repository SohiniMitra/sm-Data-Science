{
 "cells": [
  {
   "cell_type": "markdown",
   "metadata": {},
   "source": [
    "### Import Libraries"
   ]
  },
  {
   "cell_type": "code",
   "execution_count": 1,
   "metadata": {},
   "outputs": [],
   "source": [
    "import numpy as np\n",
    "import pandas as pd\n",
    "import matplotlib.pyplot as plt\n",
    "import seaborn as sns\n",
    "from sklearn.feature_selection import mutual_info_classif\n",
    "from sklearn.model_selection import train_test_split\n",
    "from sklearn import preprocessing\n",
    "from sklearn.model_selection import cross_val_score\n",
    "from sklearn.metrics import confusion_matrix\n",
    "from sklearn.metrics import classification_report\n",
    "from sklearn.linear_model import LogisticRegression\n",
    "from imblearn.over_sampling import SMOTE\n",
    "from sklearn import svm\n",
    "from sklearn.ensemble import RandomForestClassifier\n",
    "from sklearn import metrics\n",
    "import warnings\n",
    "warnings.filterwarnings(\"ignore\")\n",
    "np.random.seed(7)"
   ]
  },
  {
   "cell_type": "markdown",
   "metadata": {},
   "source": [
    "### Define file path"
   ]
  },
  {
   "cell_type": "code",
   "execution_count": 2,
   "metadata": {},
   "outputs": [],
   "source": [
    "path = \"/Users/sohinimitra/Documents/epiFi/\""
   ]
  },
  {
   "cell_type": "markdown",
   "metadata": {},
   "source": [
    "### Load data and observe samples"
   ]
  },
  {
   "cell_type": "code",
   "execution_count": 3,
   "metadata": {},
   "outputs": [],
   "source": [
    "data_applicant = pd.read_csv(path+\"Data/applicant.csv\")\n",
    "data_loan = pd.read_csv(path+\"Data/loan.csv\")"
   ]
  },
  {
   "cell_type": "code",
   "execution_count": 4,
   "metadata": {},
   "outputs": [
    {
     "name": "stdout",
     "output_type": "stream",
     "text": [
      "<class 'pandas.core.frame.DataFrame'>\n",
      "RangeIndex: 1000 entries, 0 to 999\n",
      "Data columns (total 15 columns):\n",
      "applicant_id                                                1000 non-null int64\n",
      "Primary_applicant_age_in_years                              1000 non-null int64\n",
      "Gender                                                      1000 non-null object\n",
      "Marital_status                                              1000 non-null object\n",
      "Number_of_dependents                                        1000 non-null int64\n",
      "Housing                                                     1000 non-null object\n",
      "Years_at_current_residence                                  1000 non-null int64\n",
      "Employment_status                                           1000 non-null object\n",
      "Has_been_employed_for_at_least                              938 non-null object\n",
      "Has_been_employed_for_at_most                               747 non-null object\n",
      "Telephone                                                   404 non-null object\n",
      "Foreign_worker                                              1000 non-null int64\n",
      "Savings_account_balance                                     817 non-null object\n",
      "Balance_in_existing_bank_account_(lower_limit_of_bucket)    332 non-null object\n",
      "Balance_in_existing_bank_account_(upper_limit_of_bucket)    543 non-null object\n",
      "dtypes: int64(5), object(10)\n",
      "memory usage: 117.3+ KB\n",
      "Applicant data information None\n"
     ]
    },
    {
     "data": {
      "text/html": [
       "<div>\n",
       "<style scoped>\n",
       "    .dataframe tbody tr th:only-of-type {\n",
       "        vertical-align: middle;\n",
       "    }\n",
       "\n",
       "    .dataframe tbody tr th {\n",
       "        vertical-align: top;\n",
       "    }\n",
       "\n",
       "    .dataframe thead th {\n",
       "        text-align: right;\n",
       "    }\n",
       "</style>\n",
       "<table border=\"1\" class=\"dataframe\">\n",
       "  <thead>\n",
       "    <tr style=\"text-align: right;\">\n",
       "      <th></th>\n",
       "      <th>applicant_id</th>\n",
       "      <th>Primary_applicant_age_in_years</th>\n",
       "      <th>Gender</th>\n",
       "      <th>Marital_status</th>\n",
       "      <th>Number_of_dependents</th>\n",
       "      <th>Housing</th>\n",
       "      <th>Years_at_current_residence</th>\n",
       "      <th>Employment_status</th>\n",
       "      <th>Has_been_employed_for_at_least</th>\n",
       "      <th>Has_been_employed_for_at_most</th>\n",
       "      <th>Telephone</th>\n",
       "      <th>Foreign_worker</th>\n",
       "      <th>Savings_account_balance</th>\n",
       "      <th>Balance_in_existing_bank_account_(lower_limit_of_bucket)</th>\n",
       "      <th>Balance_in_existing_bank_account_(upper_limit_of_bucket)</th>\n",
       "    </tr>\n",
       "  </thead>\n",
       "  <tbody>\n",
       "    <tr>\n",
       "      <th>778</th>\n",
       "      <td>1185509</td>\n",
       "      <td>38</td>\n",
       "      <td>male</td>\n",
       "      <td>single</td>\n",
       "      <td>1</td>\n",
       "      <td>own</td>\n",
       "      <td>2</td>\n",
       "      <td>management / self-employed / highly qualified ...</td>\n",
       "      <td>7 years</td>\n",
       "      <td>NaN</td>\n",
       "      <td>Registered under the applicant's name</td>\n",
       "      <td>1</td>\n",
       "      <td>Very high</td>\n",
       "      <td>NaN</td>\n",
       "      <td>NaN</td>\n",
       "    </tr>\n",
       "    <tr>\n",
       "      <th>334</th>\n",
       "      <td>1749671</td>\n",
       "      <td>23</td>\n",
       "      <td>male</td>\n",
       "      <td>single</td>\n",
       "      <td>2</td>\n",
       "      <td>rent</td>\n",
       "      <td>4</td>\n",
       "      <td>skilled employee / official</td>\n",
       "      <td>7 years</td>\n",
       "      <td>NaN</td>\n",
       "      <td>NaN</td>\n",
       "      <td>1</td>\n",
       "      <td>Low</td>\n",
       "      <td>NaN</td>\n",
       "      <td>0</td>\n",
       "    </tr>\n",
       "    <tr>\n",
       "      <th>271</th>\n",
       "      <td>1753115</td>\n",
       "      <td>37</td>\n",
       "      <td>female</td>\n",
       "      <td>divorced/separated/married</td>\n",
       "      <td>1</td>\n",
       "      <td>rent</td>\n",
       "      <td>4</td>\n",
       "      <td>skilled employee / official</td>\n",
       "      <td>4 years</td>\n",
       "      <td>7 years</td>\n",
       "      <td>Registered under the applicant's name</td>\n",
       "      <td>1</td>\n",
       "      <td>High</td>\n",
       "      <td>NaN</td>\n",
       "      <td>NaN</td>\n",
       "    </tr>\n",
       "    <tr>\n",
       "      <th>802</th>\n",
       "      <td>1867602</td>\n",
       "      <td>24</td>\n",
       "      <td>female</td>\n",
       "      <td>divorced/separated/married</td>\n",
       "      <td>1</td>\n",
       "      <td>own</td>\n",
       "      <td>4</td>\n",
       "      <td>skilled employee / official</td>\n",
       "      <td>7 years</td>\n",
       "      <td>NaN</td>\n",
       "      <td>NaN</td>\n",
       "      <td>1</td>\n",
       "      <td>Low</td>\n",
       "      <td>NaN</td>\n",
       "      <td>0</td>\n",
       "    </tr>\n",
       "    <tr>\n",
       "      <th>216</th>\n",
       "      <td>1671701</td>\n",
       "      <td>31</td>\n",
       "      <td>male</td>\n",
       "      <td>single</td>\n",
       "      <td>1</td>\n",
       "      <td>own</td>\n",
       "      <td>1</td>\n",
       "      <td>skilled employee / official</td>\n",
       "      <td>4 years</td>\n",
       "      <td>7 years</td>\n",
       "      <td>Registered under the applicant's name</td>\n",
       "      <td>1</td>\n",
       "      <td>Low</td>\n",
       "      <td>NaN</td>\n",
       "      <td>0</td>\n",
       "    </tr>\n",
       "    <tr>\n",
       "      <th>408</th>\n",
       "      <td>1755656</td>\n",
       "      <td>26</td>\n",
       "      <td>male</td>\n",
       "      <td>divorced/separated</td>\n",
       "      <td>1</td>\n",
       "      <td>own</td>\n",
       "      <td>2</td>\n",
       "      <td>management / self-employed / highly qualified ...</td>\n",
       "      <td>7 years</td>\n",
       "      <td>NaN</td>\n",
       "      <td>Registered under the applicant's name</td>\n",
       "      <td>1</td>\n",
       "      <td>High</td>\n",
       "      <td>NaN</td>\n",
       "      <td>NaN</td>\n",
       "    </tr>\n",
       "    <tr>\n",
       "      <th>812</th>\n",
       "      <td>1434140</td>\n",
       "      <td>24</td>\n",
       "      <td>male</td>\n",
       "      <td>single</td>\n",
       "      <td>1</td>\n",
       "      <td>own</td>\n",
       "      <td>4</td>\n",
       "      <td>skilled employee / official</td>\n",
       "      <td>4 years</td>\n",
       "      <td>7 years</td>\n",
       "      <td>Registered under the applicant's name</td>\n",
       "      <td>1</td>\n",
       "      <td>Low</td>\n",
       "      <td>NaN</td>\n",
       "      <td>0</td>\n",
       "    </tr>\n",
       "  </tbody>\n",
       "</table>\n",
       "</div>"
      ],
      "text/plain": [
       "     applicant_id  Primary_applicant_age_in_years  Gender  \\\n",
       "778       1185509                              38    male   \n",
       "334       1749671                              23    male   \n",
       "271       1753115                              37  female   \n",
       "802       1867602                              24  female   \n",
       "216       1671701                              31    male   \n",
       "408       1755656                              26    male   \n",
       "812       1434140                              24    male   \n",
       "\n",
       "                 Marital_status  Number_of_dependents Housing  \\\n",
       "778                      single                     1     own   \n",
       "334                      single                     2    rent   \n",
       "271  divorced/separated/married                     1    rent   \n",
       "802  divorced/separated/married                     1     own   \n",
       "216                      single                     1     own   \n",
       "408          divorced/separated                     1     own   \n",
       "812                      single                     1     own   \n",
       "\n",
       "     Years_at_current_residence  \\\n",
       "778                           2   \n",
       "334                           4   \n",
       "271                           4   \n",
       "802                           4   \n",
       "216                           1   \n",
       "408                           2   \n",
       "812                           4   \n",
       "\n",
       "                                     Employment_status  \\\n",
       "778  management / self-employed / highly qualified ...   \n",
       "334                        skilled employee / official   \n",
       "271                        skilled employee / official   \n",
       "802                        skilled employee / official   \n",
       "216                        skilled employee / official   \n",
       "408  management / self-employed / highly qualified ...   \n",
       "812                        skilled employee / official   \n",
       "\n",
       "    Has_been_employed_for_at_least Has_been_employed_for_at_most  \\\n",
       "778                        7 years                           NaN   \n",
       "334                        7 years                           NaN   \n",
       "271                        4 years                       7 years   \n",
       "802                        7 years                           NaN   \n",
       "216                        4 years                       7 years   \n",
       "408                        7 years                           NaN   \n",
       "812                        4 years                       7 years   \n",
       "\n",
       "                                 Telephone  Foreign_worker  \\\n",
       "778  Registered under the applicant's name               1   \n",
       "334                                    NaN               1   \n",
       "271  Registered under the applicant's name               1   \n",
       "802                                    NaN               1   \n",
       "216  Registered under the applicant's name               1   \n",
       "408  Registered under the applicant's name               1   \n",
       "812  Registered under the applicant's name               1   \n",
       "\n",
       "    Savings_account_balance  \\\n",
       "778               Very high   \n",
       "334                     Low   \n",
       "271                    High   \n",
       "802                     Low   \n",
       "216                     Low   \n",
       "408                    High   \n",
       "812                     Low   \n",
       "\n",
       "    Balance_in_existing_bank_account_(lower_limit_of_bucket)  \\\n",
       "778                                                NaN         \n",
       "334                                                NaN         \n",
       "271                                                NaN         \n",
       "802                                                NaN         \n",
       "216                                                NaN         \n",
       "408                                                NaN         \n",
       "812                                                NaN         \n",
       "\n",
       "    Balance_in_existing_bank_account_(upper_limit_of_bucket)  \n",
       "778                                                NaN        \n",
       "334                                                  0        \n",
       "271                                                NaN        \n",
       "802                                                  0        \n",
       "216                                                  0        \n",
       "408                                                NaN        \n",
       "812                                                  0        "
      ]
     },
     "execution_count": 4,
     "metadata": {},
     "output_type": "execute_result"
    }
   ],
   "source": [
    "print(\"Applicant data information\", data_applicant.info())\n",
    "data_applicant.sample(7)"
   ]
  },
  {
   "cell_type": "code",
   "execution_count": 5,
   "metadata": {},
   "outputs": [
    {
     "name": "stdout",
     "output_type": "stream",
     "text": [
      "<class 'pandas.core.frame.DataFrame'>\n",
      "RangeIndex: 1000 entries, 0 to 999\n",
      "Data columns (total 13 columns):\n",
      "loan_application_id                            1000 non-null object\n",
      "applicant_id                                   1000 non-null int64\n",
      "Months_loan_taken_for                          1000 non-null int64\n",
      "Purpose                                        988 non-null object\n",
      "Principal_loan_amount                          1000 non-null int64\n",
      "EMI_rate_in_percentage_of_disposable_income    1000 non-null int64\n",
      "Property                                       846 non-null object\n",
      "Has_coapplicant                                1000 non-null int64\n",
      "Has_guarantor                                  1000 non-null int64\n",
      "Other_EMI_plans                                186 non-null object\n",
      "Number_of_existing_loans_at_this_bank          1000 non-null int64\n",
      "Loan_history                                   1000 non-null object\n",
      "high_risk_applicant                            1000 non-null int64\n",
      "dtypes: int64(8), object(5)\n",
      "memory usage: 101.7+ KB\n",
      "Loan data information None\n"
     ]
    },
    {
     "data": {
      "text/html": [
       "<div>\n",
       "<style scoped>\n",
       "    .dataframe tbody tr th:only-of-type {\n",
       "        vertical-align: middle;\n",
       "    }\n",
       "\n",
       "    .dataframe tbody tr th {\n",
       "        vertical-align: top;\n",
       "    }\n",
       "\n",
       "    .dataframe thead th {\n",
       "        text-align: right;\n",
       "    }\n",
       "</style>\n",
       "<table border=\"1\" class=\"dataframe\">\n",
       "  <thead>\n",
       "    <tr style=\"text-align: right;\">\n",
       "      <th></th>\n",
       "      <th>loan_application_id</th>\n",
       "      <th>applicant_id</th>\n",
       "      <th>Months_loan_taken_for</th>\n",
       "      <th>Purpose</th>\n",
       "      <th>Principal_loan_amount</th>\n",
       "      <th>EMI_rate_in_percentage_of_disposable_income</th>\n",
       "      <th>Property</th>\n",
       "      <th>Has_coapplicant</th>\n",
       "      <th>Has_guarantor</th>\n",
       "      <th>Other_EMI_plans</th>\n",
       "      <th>Number_of_existing_loans_at_this_bank</th>\n",
       "      <th>Loan_history</th>\n",
       "      <th>high_risk_applicant</th>\n",
       "    </tr>\n",
       "  </thead>\n",
       "  <tbody>\n",
       "    <tr>\n",
       "      <th>562</th>\n",
       "      <td>d68ed0f6-edad-11ea-a40a-2a4722f3be9e</td>\n",
       "      <td>1892811</td>\n",
       "      <td>6</td>\n",
       "      <td>electronic equipment</td>\n",
       "      <td>683000</td>\n",
       "      <td>2</td>\n",
       "      <td>building society savings agreement/life insurance</td>\n",
       "      <td>0</td>\n",
       "      <td>0</td>\n",
       "      <td>bank</td>\n",
       "      <td>1</td>\n",
       "      <td>delay in paying off loans in the past</td>\n",
       "      <td>0</td>\n",
       "    </tr>\n",
       "    <tr>\n",
       "      <th>11</th>\n",
       "      <td>d68d9e66-edad-11ea-a00e-08a9b825002d</td>\n",
       "      <td>1818043</td>\n",
       "      <td>48</td>\n",
       "      <td>business</td>\n",
       "      <td>4308000</td>\n",
       "      <td>3</td>\n",
       "      <td>building society savings agreement/life insurance</td>\n",
       "      <td>0</td>\n",
       "      <td>0</td>\n",
       "      <td>NaN</td>\n",
       "      <td>1</td>\n",
       "      <td>existing loans paid back duly till now</td>\n",
       "      <td>1</td>\n",
       "    </tr>\n",
       "    <tr>\n",
       "      <th>731</th>\n",
       "      <td>d68f2d6c-edad-11ea-acb8-4a6bf2529aff</td>\n",
       "      <td>1892474</td>\n",
       "      <td>24</td>\n",
       "      <td>electronic equipment</td>\n",
       "      <td>1987000</td>\n",
       "      <td>2</td>\n",
       "      <td>real estate</td>\n",
       "      <td>0</td>\n",
       "      <td>0</td>\n",
       "      <td>NaN</td>\n",
       "      <td>1</td>\n",
       "      <td>existing loans paid back duly till now</td>\n",
       "      <td>1</td>\n",
       "    </tr>\n",
       "    <tr>\n",
       "      <th>106</th>\n",
       "      <td>d68dd14c-edad-11ea-9e7c-0fab01ac5e54</td>\n",
       "      <td>1645589</td>\n",
       "      <td>18</td>\n",
       "      <td>new vehicle</td>\n",
       "      <td>6458000</td>\n",
       "      <td>2</td>\n",
       "      <td>NaN</td>\n",
       "      <td>0</td>\n",
       "      <td>0</td>\n",
       "      <td>bank</td>\n",
       "      <td>2</td>\n",
       "      <td>all loans at this bank paid back duly</td>\n",
       "      <td>1</td>\n",
       "    </tr>\n",
       "    <tr>\n",
       "      <th>234</th>\n",
       "      <td>d68e156c-edad-11ea-a877-347e6a1e2ea7</td>\n",
       "      <td>1570458</td>\n",
       "      <td>4</td>\n",
       "      <td>electronic equipment</td>\n",
       "      <td>1544000</td>\n",
       "      <td>2</td>\n",
       "      <td>real estate</td>\n",
       "      <td>0</td>\n",
       "      <td>0</td>\n",
       "      <td>NaN</td>\n",
       "      <td>3</td>\n",
       "      <td>critical/pending loans at other banks</td>\n",
       "      <td>0</td>\n",
       "    </tr>\n",
       "    <tr>\n",
       "      <th>706</th>\n",
       "      <td>d68f2092-edad-11ea-9e4f-1b91a31266c6</td>\n",
       "      <td>1735719</td>\n",
       "      <td>48</td>\n",
       "      <td>new vehicle</td>\n",
       "      <td>6560000</td>\n",
       "      <td>3</td>\n",
       "      <td>building society savings agreement/life insurance</td>\n",
       "      <td>0</td>\n",
       "      <td>0</td>\n",
       "      <td>NaN</td>\n",
       "      <td>1</td>\n",
       "      <td>existing loans paid back duly till now</td>\n",
       "      <td>1</td>\n",
       "    </tr>\n",
       "    <tr>\n",
       "      <th>974</th>\n",
       "      <td>d68fb0de-edad-11ea-9336-32bd42489178</td>\n",
       "      <td>1386565</td>\n",
       "      <td>30</td>\n",
       "      <td>electronic equipment</td>\n",
       "      <td>2831000</td>\n",
       "      <td>4</td>\n",
       "      <td>car or other</td>\n",
       "      <td>0</td>\n",
       "      <td>0</td>\n",
       "      <td>NaN</td>\n",
       "      <td>1</td>\n",
       "      <td>critical/pending loans at other banks</td>\n",
       "      <td>0</td>\n",
       "    </tr>\n",
       "  </tbody>\n",
       "</table>\n",
       "</div>"
      ],
      "text/plain": [
       "                      loan_application_id  applicant_id  \\\n",
       "562  d68ed0f6-edad-11ea-a40a-2a4722f3be9e       1892811   \n",
       "11   d68d9e66-edad-11ea-a00e-08a9b825002d       1818043   \n",
       "731  d68f2d6c-edad-11ea-acb8-4a6bf2529aff       1892474   \n",
       "106  d68dd14c-edad-11ea-9e7c-0fab01ac5e54       1645589   \n",
       "234  d68e156c-edad-11ea-a877-347e6a1e2ea7       1570458   \n",
       "706  d68f2092-edad-11ea-9e4f-1b91a31266c6       1735719   \n",
       "974  d68fb0de-edad-11ea-9336-32bd42489178       1386565   \n",
       "\n",
       "     Months_loan_taken_for               Purpose  Principal_loan_amount  \\\n",
       "562                      6  electronic equipment                 683000   \n",
       "11                      48              business                4308000   \n",
       "731                     24  electronic equipment                1987000   \n",
       "106                     18           new vehicle                6458000   \n",
       "234                      4  electronic equipment                1544000   \n",
       "706                     48           new vehicle                6560000   \n",
       "974                     30  electronic equipment                2831000   \n",
       "\n",
       "     EMI_rate_in_percentage_of_disposable_income  \\\n",
       "562                                            2   \n",
       "11                                             3   \n",
       "731                                            2   \n",
       "106                                            2   \n",
       "234                                            2   \n",
       "706                                            3   \n",
       "974                                            4   \n",
       "\n",
       "                                              Property  Has_coapplicant  \\\n",
       "562  building society savings agreement/life insurance                0   \n",
       "11   building society savings agreement/life insurance                0   \n",
       "731                                        real estate                0   \n",
       "106                                                NaN                0   \n",
       "234                                        real estate                0   \n",
       "706  building society savings agreement/life insurance                0   \n",
       "974                                       car or other                0   \n",
       "\n",
       "     Has_guarantor Other_EMI_plans  Number_of_existing_loans_at_this_bank  \\\n",
       "562              0            bank                                      1   \n",
       "11               0             NaN                                      1   \n",
       "731              0             NaN                                      1   \n",
       "106              0            bank                                      2   \n",
       "234              0             NaN                                      3   \n",
       "706              0             NaN                                      1   \n",
       "974              0             NaN                                      1   \n",
       "\n",
       "                               Loan_history  high_risk_applicant  \n",
       "562   delay in paying off loans in the past                    0  \n",
       "11   existing loans paid back duly till now                    1  \n",
       "731  existing loans paid back duly till now                    1  \n",
       "106   all loans at this bank paid back duly                    1  \n",
       "234   critical/pending loans at other banks                    0  \n",
       "706  existing loans paid back duly till now                    1  \n",
       "974   critical/pending loans at other banks                    0  "
      ]
     },
     "execution_count": 5,
     "metadata": {},
     "output_type": "execute_result"
    }
   ],
   "source": [
    "print(\"Loan data information\", data_loan.info())\n",
    "data_loan.sample(7)"
   ]
  },
  {
   "cell_type": "markdown",
   "metadata": {},
   "source": [
    "### Drop columns with high number (more than 55%) of missing data"
   ]
  },
  {
   "cell_type": "code",
   "execution_count": 6,
   "metadata": {},
   "outputs": [],
   "source": [
    "data_applicant_2 = data_applicant.drop(['Telephone', 'Balance_in_existing_bank_account_(lower_limit_of_bucket)', 'Balance_in_existing_bank_account_(upper_limit_of_bucket)'], axis=1)\n",
    "data_loan_2 = data_loan.drop('Other_EMI_plans', axis=1)"
   ]
  },
  {
   "cell_type": "markdown",
   "metadata": {},
   "source": [
    "### Obtain data for EDA"
   ]
  },
  {
   "cell_type": "code",
   "execution_count": 7,
   "metadata": {},
   "outputs": [
    {
     "name": "stdout",
     "output_type": "stream",
     "text": [
      "<class 'pandas.core.frame.DataFrame'>\n",
      "Int64Index: 1000 entries, 0 to 999\n",
      "Data columns (total 23 columns):\n",
      "applicant_id                                   1000 non-null int64\n",
      "Primary_applicant_age_in_years                 1000 non-null int64\n",
      "Gender                                         1000 non-null object\n",
      "Marital_status                                 1000 non-null object\n",
      "Number_of_dependents                           1000 non-null int64\n",
      "Housing                                        1000 non-null object\n",
      "Years_at_current_residence                     1000 non-null int64\n",
      "Employment_status                              1000 non-null object\n",
      "Has_been_employed_for_at_least                 938 non-null object\n",
      "Has_been_employed_for_at_most                  747 non-null object\n",
      "Foreign_worker                                 1000 non-null int64\n",
      "Savings_account_balance                        817 non-null object\n",
      "loan_application_id                            1000 non-null object\n",
      "Months_loan_taken_for                          1000 non-null int64\n",
      "Purpose                                        988 non-null object\n",
      "Principal_loan_amount                          1000 non-null int64\n",
      "EMI_rate_in_percentage_of_disposable_income    1000 non-null int64\n",
      "Property                                       846 non-null object\n",
      "Has_coapplicant                                1000 non-null int64\n",
      "Has_guarantor                                  1000 non-null int64\n",
      "Number_of_existing_loans_at_this_bank          1000 non-null int64\n",
      "Loan_history                                   1000 non-null object\n",
      "high_risk_applicant                            1000 non-null int64\n",
      "dtypes: int64(12), object(11)\n",
      "memory usage: 187.5+ KB\n"
     ]
    }
   ],
   "source": [
    "data_all = pd.merge(data_applicant_2, data_loan_2, on=\"applicant_id\", how=\"inner\")\n",
    "data_all.info()"
   ]
  },
  {
   "cell_type": "markdown",
   "metadata": {},
   "source": [
    "### Check class balance"
   ]
  },
  {
   "cell_type": "code",
   "execution_count": 8,
   "metadata": {},
   "outputs": [
    {
     "data": {
      "text/plain": [
       "Text(0, 0.5, 'Total number of examples')"
      ]
     },
     "execution_count": 8,
     "metadata": {},
     "output_type": "execute_result"
    },
    {
     "data": {
      "image/png": "[encoded data removed]",
      "text/plain": [
       "<Figure size 432x288 with 1 Axes>"
      ]
     },
     "metadata": {
      "needs_background": "light"
     },
     "output_type": "display_data"
    }
   ],
   "source": [
    "data_all[\"high_risk_applicant\"].value_counts().plot.bar(color=\"blue\")\n",
    "plt.xlabel(\"Class\")\n",
    "plt.ylabel(\"Total number of examples\")"
   ]
  },
  {
   "cell_type": "markdown",
   "metadata": {},
   "source": [
    "#### Observation: High risk class 1 has fewer examples. Class imbalance exists in the dataset of 1000 examples."
   ]
  },
  {
   "cell_type": "markdown",
   "metadata": {},
   "source": [
    "### EDA 1: Effect of age on risk"
   ]
  },
  {
   "cell_type": "code",
   "execution_count": 9,
   "metadata": {},
   "outputs": [
    {
     "data": {
      "text/plain": [
       "count    1000.000000\n",
       "mean       35.546000\n",
       "std        11.375469\n",
       "min        19.000000\n",
       "25%        27.000000\n",
       "50%        33.000000\n",
       "75%        42.000000\n",
       "max        75.000000\n",
       "Name: Primary_applicant_age_in_years, dtype: float64"
      ]
     },
     "execution_count": 9,
     "metadata": {},
     "output_type": "execute_result"
    }
   ],
   "source": [
    "data_age_vs_risk = data_all[[\"Primary_applicant_age_in_years\",\"high_risk_applicant\"]]\n",
    "data_age_vs_risk[\"Primary_applicant_age_in_years\"].describe()"
   ]
  },
  {
   "cell_type": "code",
   "execution_count": 10,
   "metadata": {},
   "outputs": [
    {
     "data": {
      "text/plain": [
       "<matplotlib.axes._subplots.AxesSubplot at 0x1322f3358>"
      ]
     },
     "execution_count": 10,
     "metadata": {},
     "output_type": "execute_result"
    },
    {
     "data": {
      "image/png": "[encoded data removed]",
      "text/plain": [
       "<Figure size 432x288 with 1 Axes>"
      ]
     },
     "metadata": {
      "needs_background": "light"
     },
     "output_type": "display_data"
    }
   ],
   "source": [
    "sns.barplot(x='high_risk_applicant', y='Primary_applicant_age_in_years',data=data_age_vs_risk)"
   ]
  },
  {
   "cell_type": "markdown",
   "metadata": {},
   "source": [
    "#### Observation: On an average, younger applicants are in the high risk class (1) compared to the low risk class (0)."
   ]
  },
  {
   "cell_type": "code",
   "execution_count": 11,
   "metadata": {},
   "outputs": [
    {
     "data": {
      "text/plain": [
       "count    700.000000\n",
       "mean      36.224286\n",
       "std       11.381145\n",
       "min       19.000000\n",
       "25%       27.000000\n",
       "50%       34.000000\n",
       "75%       42.250000\n",
       "max       75.000000\n",
       "Name: Primary_applicant_age_in_years, dtype: float64"
      ]
     },
     "execution_count": 11,
     "metadata": {},
     "output_type": "execute_result"
    }
   ],
   "source": [
    "data_age_vs_risk_class0 = data_age_vs_risk.loc[data_age_vs_risk[\"high_risk_applicant\"]==0]\n",
    "data_age_vs_risk_class0[\"Primary_applicant_age_in_years\"].describe()"
   ]
  },
  {
   "cell_type": "code",
   "execution_count": 12,
   "metadata": {},
   "outputs": [
    {
     "data": {
      "text/plain": [
       "count    300.000000\n",
       "mean      33.963333\n",
       "std       11.222379\n",
       "min       19.000000\n",
       "25%       25.000000\n",
       "50%       31.000000\n",
       "75%       40.000000\n",
       "max       74.000000\n",
       "Name: Primary_applicant_age_in_years, dtype: float64"
      ]
     },
     "execution_count": 12,
     "metadata": {},
     "output_type": "execute_result"
    }
   ],
   "source": [
    "data_age_vs_risk_class1 = data_age_vs_risk.loc[data_age_vs_risk[\"high_risk_applicant\"]==1]\n",
    "data_age_vs_risk_class1[\"Primary_applicant_age_in_years\"].describe()"
   ]
  },
  {
   "cell_type": "code",
   "execution_count": 13,
   "metadata": {},
   "outputs": [
    {
     "data": {
      "image/png": "[encoded data removed]",
      "text/plain": [
       "<Figure size 504x360 with 1 Axes>"
      ]
     },
     "metadata": {
      "needs_background": "light"
     },
     "output_type": "display_data"
    }
   ],
   "source": [
    "plt.figure(figsize=(7,5))\n",
    "sns.distplot(data_age_vs_risk[\"Primary_applicant_age_in_years\"], bins=70, color=\"black\",hist=False, label=\"Applicant age - overall\")\n",
    "sns.distplot(data_age_vs_risk_class0[\"Primary_applicant_age_in_years\"],bins=70, color=\"blue\", label=\"Applicant age - not at risk\")\n",
    "sns.distplot(data_age_vs_risk_class1[\"Primary_applicant_age_in_years\"],bins=70, color=\"maroon\", label=\"Applicant age - at risk\")\n",
    "plt.ylabel(\"Density\")\n",
    "plt.legend()\n",
    "plt.show()"
   ]
  },
  {
   "cell_type": "markdown",
   "metadata": {},
   "source": [
    "#### Observation: The histogram shows that applicants in lower age groups [~23 to 27 years] belong to high risk class (1) more. As the age group increases, 'blue' line (applicants in low risk class (0)) is higher than the 'red' line (applicants in high risk class (1)). Therefore, age has an impact on the output."
   ]
  },
  {
   "cell_type": "markdown",
   "metadata": {},
   "source": [
    "### EDA 2 - Effect of gender on risk"
   ]
  },
  {
   "cell_type": "code",
   "execution_count": 14,
   "metadata": {},
   "outputs": [
    {
     "data": {
      "text/plain": [
       "male      690\n",
       "female    310\n",
       "Name: Gender, dtype: int64"
      ]
     },
     "execution_count": 14,
     "metadata": {},
     "output_type": "execute_result"
    }
   ],
   "source": [
    "data_gender_vs_risk = data_all[[\"Gender\",\"high_risk_applicant\"]]\n",
    "data_gender_vs_risk[\"Gender\"].value_counts()"
   ]
  },
  {
   "cell_type": "code",
   "execution_count": 15,
   "metadata": {},
   "outputs": [
    {
     "data": {
      "text/plain": [
       "male      499\n",
       "female    201\n",
       "Name: Gender, dtype: int64"
      ]
     },
     "execution_count": 15,
     "metadata": {},
     "output_type": "execute_result"
    }
   ],
   "source": [
    "data_gender_vs_risk_class0 = data_gender_vs_risk.loc[data_gender_vs_risk[\"high_risk_applicant\"]==0]\n",
    "data_gender_vs_risk_class0[\"Gender\"].value_counts()"
   ]
  },
  {
   "cell_type": "code",
   "execution_count": 16,
   "metadata": {},
   "outputs": [
    {
     "data": {
      "text/plain": [
       "male      191\n",
       "female    109\n",
       "Name: Gender, dtype: int64"
      ]
     },
     "execution_count": 16,
     "metadata": {},
     "output_type": "execute_result"
    }
   ],
   "source": [
    "data_gender_vs_risk_class1 = data_gender_vs_risk.loc[data_gender_vs_risk[\"high_risk_applicant\"]==1]\n",
    "data_gender_vs_risk_class1[\"Gender\"].value_counts()"
   ]
  },
  {
   "cell_type": "code",
   "execution_count": 17,
   "metadata": {},
   "outputs": [
    {
     "data": {
      "image/png": "[encoded data removed]",
      "text/plain": [
       "<Figure size 720x288 with 2 Axes>"
      ]
     },
     "metadata": {
      "needs_background": "light"
     },
     "output_type": "display_data"
    }
   ],
   "source": [
    "plt.figure(figsize=(10,4))\n",
    "\n",
    "plt.subplot(1, 2, 1)\n",
    "data_gender_vs_risk_class0[\"Gender\"].value_counts().plot.bar(color=\"blue\")\n",
    "plt.ylabel(\"Total count\")\n",
    "plt.title(\"Class 0: Low risk\")\n",
    "\n",
    "plt.subplot(1, 2, 2)\n",
    "data_gender_vs_risk_class1[\"Gender\"].value_counts().plot.bar(color=\"maroon\")\n",
    "plt.ylabel(\"Total count\")\n",
    "plt.title(\"Class 1: High risk\")\n",
    "\n",
    "plt.tight_layout()\n",
    "plt.show()"
   ]
  },
  {
   "cell_type": "markdown",
   "metadata": {},
   "source": [
    "#### Observation: In class 0 (i.e. low risk), there are 499 (499/690 ~ 72% of the male applicants) male applicants and 201 (201/310 ~ 65% of the female applicants) female applicants. In class 1 (i.e. high risk), there are 191 (191/690 ~27% of the male applicants) male applicants and 109 (109/310 ~ 35% of the female applicants) female applicants. If the applicant is female, the chances of being in class 1 is more (35% vs 27%). Therefore, gender impacts the output."
   ]
  },
  {
   "cell_type": "markdown",
   "metadata": {},
   "source": [
    "### EDA 3 - Effect of marital status on risk"
   ]
  },
  {
   "cell_type": "code",
   "execution_count": 18,
   "metadata": {
    "scrolled": true
   },
   "outputs": [
    {
     "data": {
      "text/plain": [
       "single                        548\n",
       "divorced/separated/married    310\n",
       "married/widowed                92\n",
       "divorced/separated             50\n",
       "Name: Marital_status, dtype: int64"
      ]
     },
     "execution_count": 18,
     "metadata": {},
     "output_type": "execute_result"
    }
   ],
   "source": [
    "data_marital_vs_risk = data_all[[\"Marital_status\",\"high_risk_applicant\"]]\n",
    "data_marital_vs_risk[\"Marital_status\"].value_counts()"
   ]
  },
  {
   "cell_type": "markdown",
   "metadata": {},
   "source": [
    "#### Observation: This data is ambiguous. The different marital statuses overlap."
   ]
  },
  {
   "cell_type": "markdown",
   "metadata": {},
   "source": [
    "### EDA 4 - Effect of number of dependents on risk"
   ]
  },
  {
   "cell_type": "code",
   "execution_count": 19,
   "metadata": {},
   "outputs": [
    {
     "name": "stdout",
     "output_type": "stream",
     "text": [
      "Number of dependents -\n",
      " 1    845\n",
      "2    155\n",
      "Name: Number_of_dependents, dtype: int64\n",
      "Number of dependents summary -\n",
      " count    1000.000000\n",
      "mean        1.155000\n",
      "std         0.362086\n",
      "min         1.000000\n",
      "25%         1.000000\n",
      "50%         1.000000\n",
      "75%         1.000000\n",
      "max         2.000000\n",
      "Name: Number_of_dependents, dtype: float64\n"
     ]
    }
   ],
   "source": [
    "data_dependent_vs_risk = data_all[[\"Number_of_dependents\",\"high_risk_applicant\"]]\n",
    "print(\"Number of dependents -\\n\",data_dependent_vs_risk[\"Number_of_dependents\"].value_counts())\n",
    "print(\"Number of dependents summary -\\n\",data_dependent_vs_risk[\"Number_of_dependents\"].describe())"
   ]
  },
  {
   "cell_type": "markdown",
   "metadata": {},
   "source": [
    "#### Observation: Majority of the values in this column is '1'. The variance/standard deviation is very low. Therefore, the output will not be influenced by this column."
   ]
  },
  {
   "cell_type": "markdown",
   "metadata": {},
   "source": [
    "### EDA 5 - Effect of housing on risk"
   ]
  },
  {
   "cell_type": "code",
   "execution_count": 20,
   "metadata": {},
   "outputs": [
    {
     "data": {
      "text/plain": [
       "own         713\n",
       "rent        179\n",
       "for free    108\n",
       "Name: Housing, dtype: int64"
      ]
     },
     "execution_count": 20,
     "metadata": {},
     "output_type": "execute_result"
    }
   ],
   "source": [
    "data_housing_vs_risk = data_all[[\"Housing\",\"high_risk_applicant\"]]\n",
    "data_housing_vs_risk[\"Housing\"].value_counts()"
   ]
  },
  {
   "cell_type": "code",
   "execution_count": 21,
   "metadata": {},
   "outputs": [
    {
     "data": {
      "text/plain": [
       "own         527\n",
       "rent        109\n",
       "for free     64\n",
       "Name: Housing, dtype: int64"
      ]
     },
     "execution_count": 21,
     "metadata": {},
     "output_type": "execute_result"
    }
   ],
   "source": [
    "data_housing_vs_risk_class0 = data_housing_vs_risk.loc[data_housing_vs_risk[\"high_risk_applicant\"]==0]\n",
    "data_housing_vs_risk_class0[\"Housing\"].value_counts()"
   ]
  },
  {
   "cell_type": "code",
   "execution_count": 22,
   "metadata": {},
   "outputs": [
    {
     "data": {
      "text/plain": [
       "own         186\n",
       "rent         70\n",
       "for free     44\n",
       "Name: Housing, dtype: int64"
      ]
     },
     "execution_count": 22,
     "metadata": {},
     "output_type": "execute_result"
    }
   ],
   "source": [
    "data_housing_vs_risk_class1 = data_housing_vs_risk.loc[data_housing_vs_risk[\"high_risk_applicant\"]==1]\n",
    "data_housing_vs_risk_class1[\"Housing\"].value_counts()"
   ]
  },
  {
   "cell_type": "code",
   "execution_count": 23,
   "metadata": {},
   "outputs": [
    {
     "data": {
      "image/png": "[encoded data removed]",
      "text/plain": [
       "<Figure size 720x288 with 2 Axes>"
      ]
     },
     "metadata": {
      "needs_background": "light"
     },
     "output_type": "display_data"
    }
   ],
   "source": [
    "plt.figure(figsize=(10,4))\n",
    "\n",
    "plt.subplot(1, 2, 1)\n",
    "data_housing_vs_risk_class0[\"Housing\"].value_counts().plot.bar(color=\"blue\", rot=45)\n",
    "plt.ylabel(\"Total count\")\n",
    "plt.title(\"Class 0: Low risk\")\n",
    "\n",
    "plt.subplot(1, 2, 2)\n",
    "data_housing_vs_risk_class1[\"Housing\"].value_counts().plot.bar(color=\"maroon\", rot=45)\n",
    "plt.ylabel(\"Total count\")\n",
    "plt.title(\"Class 1: High risk\")\n",
    "\n",
    "plt.tight_layout()\n",
    "plt.show()"
   ]
  },
  {
   "cell_type": "markdown",
   "metadata": {},
   "source": [
    "#### Observation: Applicants in high risk class (1) are 186 (186/713 ~ 26% of house owners) who own a house;  70 (70/179 ~ 39% of renters) who are renting; 44 (44/108 ~ 40% of who stay for free) who stay for free. House owners are at lower credit risk. Housing choice may impact the output. "
   ]
  },
  {
   "cell_type": "markdown",
   "metadata": {},
   "source": [
    "### EDA 6 - Effect of number of years at current residence on risk"
   ]
  },
  {
   "cell_type": "code",
   "execution_count": 24,
   "metadata": {},
   "outputs": [
    {
     "data": {
      "text/plain": [
       "count    1000.000000\n",
       "mean        2.845000\n",
       "std         1.103718\n",
       "min         1.000000\n",
       "25%         2.000000\n",
       "50%         3.000000\n",
       "75%         4.000000\n",
       "max         4.000000\n",
       "Name: Years_at_current_residence, dtype: float64"
      ]
     },
     "execution_count": 24,
     "metadata": {},
     "output_type": "execute_result"
    }
   ],
   "source": [
    "data_residence_vs_risk = data_all[[\"Years_at_current_residence\",\"high_risk_applicant\"]]\n",
    "data_residence_vs_risk[\"Years_at_current_residence\"].describe()"
   ]
  },
  {
   "cell_type": "code",
   "execution_count": 25,
   "metadata": {},
   "outputs": [
    {
     "data": {
      "text/plain": [
       "<matplotlib.axes._subplots.AxesSubplot at 0x1322d7ef0>"
      ]
     },
     "execution_count": 25,
     "metadata": {},
     "output_type": "execute_result"
    },
    {
     "data": {
      "image/png": "[encoded data removed]",
      "text/plain": [
       "<Figure size 432x288 with 1 Axes>"
      ]
     },
     "metadata": {
      "needs_background": "light"
     },
     "output_type": "display_data"
    }
   ],
   "source": [
    "sns.barplot(x='high_risk_applicant', y='Years_at_current_residence',data=data_residence_vs_risk)"
   ]
  },
  {
   "cell_type": "code",
   "execution_count": 26,
   "metadata": {},
   "outputs": [
    {
     "data": {
      "text/plain": [
       "count    700.000000\n",
       "mean       2.842857\n",
       "std        1.108373\n",
       "min        1.000000\n",
       "25%        2.000000\n",
       "50%        3.000000\n",
       "75%        4.000000\n",
       "max        4.000000\n",
       "Name: Years_at_current_residence, dtype: float64"
      ]
     },
     "execution_count": 26,
     "metadata": {},
     "output_type": "execute_result"
    }
   ],
   "source": [
    "data_residence_vs_risk_class0 = data_residence_vs_risk.loc[data_residence_vs_risk[\"high_risk_applicant\"]==0]\n",
    "data_residence_vs_risk_class0[\"Years_at_current_residence\"].describe()"
   ]
  },
  {
   "cell_type": "code",
   "execution_count": 27,
   "metadata": {},
   "outputs": [
    {
     "data": {
      "text/plain": [
       "count    300.000000\n",
       "mean       2.850000\n",
       "std        1.094605\n",
       "min        1.000000\n",
       "25%        2.000000\n",
       "50%        3.000000\n",
       "75%        4.000000\n",
       "max        4.000000\n",
       "Name: Years_at_current_residence, dtype: float64"
      ]
     },
     "execution_count": 27,
     "metadata": {},
     "output_type": "execute_result"
    }
   ],
   "source": [
    "data_residence_vs_risk_class1 = data_residence_vs_risk.loc[data_residence_vs_risk[\"high_risk_applicant\"]==1]\n",
    "data_residence_vs_risk_class1[\"Years_at_current_residence\"].describe()"
   ]
  },
  {
   "cell_type": "code",
   "execution_count": 28,
   "metadata": {},
   "outputs": [
    {
     "data": {
      "image/png": "[encoded data removed]",
      "text/plain": [
       "<Figure size 504x360 with 1 Axes>"
      ]
     },
     "metadata": {
      "needs_background": "light"
     },
     "output_type": "display_data"
    }
   ],
   "source": [
    "plt.figure(figsize=(7,5))\n",
    "sns.distplot(data_residence_vs_risk[\"Years_at_current_residence\"], bins=70, color=\"black\",hist=False, label=\"Applicant number of years at current residence - overall\")\n",
    "sns.distplot(data_residence_vs_risk_class0[\"Years_at_current_residence\"],bins=70, color=\"blue\", label=\"Applicant number of years at current residence - not at risk\")\n",
    "sns.distplot(data_residence_vs_risk_class1[\"Years_at_current_residence\"],bins=70, color=\"maroon\", label=\"Applicant number of years at current residence - at risk\")\n",
    "plt.ylabel(\"Density\")\n",
    "plt.legend()\n",
    "plt.show()"
   ]
  },
  {
   "cell_type": "markdown",
   "metadata": {},
   "source": [
    "#### Observation: Variance is very low in this column; On an avergae number of years is same for both the classes, hence may not contribute to learning. "
   ]
  },
  {
   "cell_type": "markdown",
   "metadata": {},
   "source": [
    "### EDA 7 - Effect of employment status on risk"
   ]
  },
  {
   "cell_type": "code",
   "execution_count": 29,
   "metadata": {},
   "outputs": [
    {
     "data": {
      "text/plain": [
       "skilled employee / official                                         630\n",
       "unskilled - resident                                                200\n",
       "management / self-employed / highly qualified employee / officer    148\n",
       "unemployed / unskilled - non-resident                                22\n",
       "Name: Employment_status, dtype: int64"
      ]
     },
     "execution_count": 29,
     "metadata": {},
     "output_type": "execute_result"
    }
   ],
   "source": [
    "data_employment_vs_risk = data_all[[\"Employment_status\",\"high_risk_applicant\"]]\n",
    "data_employment_vs_risk[\"Employment_status\"].value_counts()"
   ]
  },
  {
   "cell_type": "code",
   "execution_count": 30,
   "metadata": {},
   "outputs": [
    {
     "data": {
      "text/plain": [
       "skilled employee / official                                         444\n",
       "unskilled - resident                                                144\n",
       "management / self-employed / highly qualified employee / officer     97\n",
       "unemployed / unskilled - non-resident                                15\n",
       "Name: Employment_status, dtype: int64"
      ]
     },
     "execution_count": 30,
     "metadata": {},
     "output_type": "execute_result"
    }
   ],
   "source": [
    "data_employment_vs_risk_class0 = data_employment_vs_risk.loc[data_employment_vs_risk[\"high_risk_applicant\"]==0]\n",
    "data_employment_vs_risk_class0[\"Employment_status\"].value_counts()"
   ]
  },
  {
   "cell_type": "code",
   "execution_count": 31,
   "metadata": {},
   "outputs": [
    {
     "data": {
      "text/plain": [
       "skilled employee / official                                         186\n",
       "unskilled - resident                                                 56\n",
       "management / self-employed / highly qualified employee / officer     51\n",
       "unemployed / unskilled - non-resident                                 7\n",
       "Name: Employment_status, dtype: int64"
      ]
     },
     "execution_count": 31,
     "metadata": {},
     "output_type": "execute_result"
    }
   ],
   "source": [
    "data_employment_vs_risk_class1 = data_employment_vs_risk.loc[data_employment_vs_risk[\"high_risk_applicant\"]==1]\n",
    "data_employment_vs_risk_class1[\"Employment_status\"].value_counts()"
   ]
  },
  {
   "cell_type": "code",
   "execution_count": 32,
   "metadata": {},
   "outputs": [
    {
     "data": {
      "image/png": "[encoded data removed]",
      "text/plain": [
       "<Figure size 1800x504 with 2 Axes>"
      ]
     },
     "metadata": {
      "needs_background": "light"
     },
     "output_type": "display_data"
    }
   ],
   "source": [
    "plt.figure(figsize=(25,7))\n",
    "\n",
    "plt.subplot(1, 2, 1)\n",
    "data_employment_vs_risk_class0[\"Employment_status\"].value_counts().plot.barh(color=\"blue\")\n",
    "plt.xlabel(\"Total count\")\n",
    "plt.title(\"Class 0: Low risk\")\n",
    "\n",
    "plt.subplot(1, 2, 2)\n",
    "data_employment_vs_risk_class1[\"Employment_status\"].value_counts().plot.barh(color=\"maroon\")\n",
    "plt.xlabel(\"Total count\")\n",
    "plt.title(\"Class 1: High risk\")\n",
    "\n",
    "plt.tight_layout()\n",
    "plt.show()"
   ]
  },
  {
   "cell_type": "markdown",
   "metadata": {},
   "source": [
    "#### Observation: It can be seen close to ~ +/-30% applicants from each group are in high risk class. Employment status has an impact on the target variable."
   ]
  },
  {
   "cell_type": "markdown",
   "metadata": {},
   "source": [
    "### EDA 8 - Effect of Has_been_employed_for_at_least on risk"
   ]
  },
  {
   "cell_type": "code",
   "execution_count": 33,
   "metadata": {},
   "outputs": [
    {
     "data": {
      "text/plain": [
       "1 year     339\n",
       "7 years    253\n",
       "4 years    174\n",
       "0 year     172\n",
       "Name: Has_been_employed_for_at_least, dtype: int64"
      ]
     },
     "execution_count": 33,
     "metadata": {},
     "output_type": "execute_result"
    }
   ],
   "source": [
    "data_leastEmp_vs_risk = data_all[[\"Has_been_employed_for_at_least\",\"high_risk_applicant\"]]\n",
    "data_leastEmp_vs_risk[\"Has_been_employed_for_at_least\"].value_counts()"
   ]
  },
  {
   "cell_type": "code",
   "execution_count": 34,
   "metadata": {},
   "outputs": [
    {
     "data": {
      "text/plain": [
       "1 year     235\n",
       "7 years    189\n",
       "4 years    135\n",
       "0 year     102\n",
       "Name: Has_been_employed_for_at_least, dtype: int64"
      ]
     },
     "execution_count": 34,
     "metadata": {},
     "output_type": "execute_result"
    }
   ],
   "source": [
    "data_leastEmp_vs_risk_class0 = data_leastEmp_vs_risk.loc[data_leastEmp_vs_risk[\"high_risk_applicant\"]==0]\n",
    "data_leastEmp_vs_risk_class0[\"Has_been_employed_for_at_least\"].value_counts()"
   ]
  },
  {
   "cell_type": "code",
   "execution_count": 35,
   "metadata": {},
   "outputs": [
    {
     "data": {
      "text/plain": [
       "1 year     104\n",
       "0 year      70\n",
       "7 years     64\n",
       "4 years     39\n",
       "Name: Has_been_employed_for_at_least, dtype: int64"
      ]
     },
     "execution_count": 35,
     "metadata": {},
     "output_type": "execute_result"
    }
   ],
   "source": [
    "data_leastEmp_vs_risk_class1 = data_leastEmp_vs_risk.loc[data_leastEmp_vs_risk[\"high_risk_applicant\"]==1]\n",
    "data_leastEmp_vs_risk_class1[\"Has_been_employed_for_at_least\"].value_counts()"
   ]
  },
  {
   "cell_type": "code",
   "execution_count": 36,
   "metadata": {},
   "outputs": [
    {
     "data": {
      "image/png": "[encoded data removed]",
      "text/plain": [
       "<Figure size 720x288 with 2 Axes>"
      ]
     },
     "metadata": {
      "needs_background": "light"
     },
     "output_type": "display_data"
    }
   ],
   "source": [
    "plt.figure(figsize=(10,4))\n",
    "\n",
    "plt.subplot(1, 2, 1)\n",
    "data_leastEmp_vs_risk_class0[\"Has_been_employed_for_at_least\"].value_counts().plot.bar(color=\"blue\")\n",
    "plt.ylabel(\"Total count\")\n",
    "plt.title(\"Class 0: Low risk\")\n",
    "\n",
    "plt.subplot(1, 2, 2)\n",
    "data_leastEmp_vs_risk_class1[\"Has_been_employed_for_at_least\"].value_counts().plot.bar(color=\"maroon\")\n",
    "plt.ylabel(\"Total count\")\n",
    "plt.title(\"Class 1: High risk\")\n",
    "\n",
    "plt.tight_layout()\n",
    "plt.show()"
   ]
  },
  {
   "cell_type": "markdown",
   "metadata": {},
   "source": [
    "#### Observation: There are NULL values in this column. "
   ]
  },
  {
   "cell_type": "markdown",
   "metadata": {},
   "source": [
    "### EDA 9 - Effect of Has_been_employed_for_at_most on risk"
   ]
  },
  {
   "cell_type": "code",
   "execution_count": 37,
   "metadata": {},
   "outputs": [
    {
     "data": {
      "text/plain": [
       "4 years    339\n",
       "7 years    174\n",
       "1 year     172\n",
       "0 year      62\n",
       "Name: Has_been_employed_for_at_most, dtype: int64"
      ]
     },
     "execution_count": 37,
     "metadata": {},
     "output_type": "execute_result"
    }
   ],
   "source": [
    "data_mostEmp_vs_risk = data_all[[\"Has_been_employed_for_at_most\",\"high_risk_applicant\"]]\n",
    "data_mostEmp_vs_risk[\"Has_been_employed_for_at_most\"].value_counts()"
   ]
  },
  {
   "cell_type": "code",
   "execution_count": 38,
   "metadata": {},
   "outputs": [
    {
     "data": {
      "text/plain": [
       "4 years    235\n",
       "7 years    135\n",
       "1 year     102\n",
       "0 year      39\n",
       "Name: Has_been_employed_for_at_most, dtype: int64"
      ]
     },
     "execution_count": 38,
     "metadata": {},
     "output_type": "execute_result"
    }
   ],
   "source": [
    "data_mostEmp_vs_risk_class0 = data_mostEmp_vs_risk.loc[data_mostEmp_vs_risk[\"high_risk_applicant\"]==0]\n",
    "data_mostEmp_vs_risk_class0[\"Has_been_employed_for_at_most\"].value_counts()"
   ]
  },
  {
   "cell_type": "code",
   "execution_count": 39,
   "metadata": {},
   "outputs": [
    {
     "data": {
      "text/plain": [
       "4 years    104\n",
       "1 year      70\n",
       "7 years     39\n",
       "0 year      23\n",
       "Name: Has_been_employed_for_at_most, dtype: int64"
      ]
     },
     "execution_count": 39,
     "metadata": {},
     "output_type": "execute_result"
    }
   ],
   "source": [
    "data_mostEmp_vs_risk_class1 = data_mostEmp_vs_risk.loc[data_mostEmp_vs_risk[\"high_risk_applicant\"]==1]\n",
    "data_mostEmp_vs_risk_class1[\"Has_been_employed_for_at_most\"].value_counts()"
   ]
  },
  {
   "cell_type": "code",
   "execution_count": 40,
   "metadata": {},
   "outputs": [
    {
     "data": {
      "image/png": "[encoded data removed]",
      "text/plain": [
       "<Figure size 720x288 with 2 Axes>"
      ]
     },
     "metadata": {
      "needs_background": "light"
     },
     "output_type": "display_data"
    }
   ],
   "source": [
    "plt.figure(figsize=(10,4))\n",
    "\n",
    "plt.subplot(1, 2, 1)\n",
    "data_mostEmp_vs_risk_class0[\"Has_been_employed_for_at_most\"].value_counts().plot.bar(color=\"blue\")\n",
    "plt.ylabel(\"Total count\")\n",
    "plt.title(\"Class 0: Low risk\")\n",
    "\n",
    "plt.subplot(1, 2, 2)\n",
    "data_mostEmp_vs_risk_class1[\"Has_been_employed_for_at_most\"].value_counts().plot.bar(color=\"maroon\")\n",
    "plt.ylabel(\"Total count\")\n",
    "plt.title(\"Class 1: High risk\")\n",
    "\n",
    "plt.tight_layout()\n",
    "plt.show()"
   ]
  },
  {
   "cell_type": "markdown",
   "metadata": {},
   "source": [
    "#### Observation: This column has NULL values."
   ]
  },
  {
   "cell_type": "markdown",
   "metadata": {},
   "source": [
    "### EDA 10 - Effect of Foreign worker on risk"
   ]
  },
  {
   "cell_type": "code",
   "execution_count": 41,
   "metadata": {},
   "outputs": [
    {
     "data": {
      "text/plain": [
       "1    963\n",
       "0     37\n",
       "Name: Foreign_worker, dtype: int64"
      ]
     },
     "execution_count": 41,
     "metadata": {},
     "output_type": "execute_result"
    }
   ],
   "source": [
    "data_FW_vs_risk = data_all[[\"Foreign_worker\",\"high_risk_applicant\"]]\n",
    "data_FW_vs_risk[\"Foreign_worker\"].value_counts()"
   ]
  },
  {
   "cell_type": "markdown",
   "metadata": {},
   "source": [
    "#### Observation: This column has very low variance/standard deviation. 96% of the values are same. This will not impact the target variable."
   ]
  },
  {
   "cell_type": "markdown",
   "metadata": {},
   "source": [
    "### EDA 11 - Effect of savings account balance on risk"
   ]
  },
  {
   "cell_type": "code",
   "execution_count": 42,
   "metadata": {},
   "outputs": [
    {
     "data": {
      "text/plain": [
       "Low          603\n",
       "Medium       103\n",
       "High          63\n",
       "Very high     48\n",
       "Name: Savings_account_balance, dtype: int64"
      ]
     },
     "execution_count": 42,
     "metadata": {},
     "output_type": "execute_result"
    }
   ],
   "source": [
    "data_savings_vs_risk = data_all[[\"Savings_account_balance\",\"high_risk_applicant\"]]\n",
    "data_savings_vs_risk[\"Savings_account_balance\"].value_counts()"
   ]
  },
  {
   "cell_type": "code",
   "execution_count": 43,
   "metadata": {},
   "outputs": [
    {
     "data": {
      "text/plain": [
       "Low          386\n",
       "Medium        69\n",
       "High          52\n",
       "Very high     42\n",
       "Name: Savings_account_balance, dtype: int64"
      ]
     },
     "execution_count": 43,
     "metadata": {},
     "output_type": "execute_result"
    }
   ],
   "source": [
    "data_savings_vs_risk_class0 = data_savings_vs_risk.loc[data_savings_vs_risk[\"high_risk_applicant\"]==0]\n",
    "data_savings_vs_risk_class0[\"Savings_account_balance\"].value_counts()"
   ]
  },
  {
   "cell_type": "code",
   "execution_count": 44,
   "metadata": {},
   "outputs": [
    {
     "data": {
      "text/plain": [
       "Low          217\n",
       "Medium        34\n",
       "High          11\n",
       "Very high      6\n",
       "Name: Savings_account_balance, dtype: int64"
      ]
     },
     "execution_count": 44,
     "metadata": {},
     "output_type": "execute_result"
    }
   ],
   "source": [
    "data_savings_vs_risk_class1 = data_savings_vs_risk.loc[data_savings_vs_risk[\"high_risk_applicant\"]==1]\n",
    "data_savings_vs_risk_class1[\"Savings_account_balance\"].value_counts()"
   ]
  },
  {
   "cell_type": "code",
   "execution_count": 45,
   "metadata": {},
   "outputs": [
    {
     "data": {
      "image/png": "[encoded data removed]",
      "text/plain": [
       "<Figure size 720x288 with 2 Axes>"
      ]
     },
     "metadata": {
      "needs_background": "light"
     },
     "output_type": "display_data"
    }
   ],
   "source": [
    "plt.figure(figsize=(10,4))\n",
    "\n",
    "plt.subplot(1, 2, 1)\n",
    "data_savings_vs_risk_class0[\"Savings_account_balance\"].value_counts().plot.bar(color=\"blue\")\n",
    "plt.ylabel(\"Total count\")\n",
    "plt.title(\"Class 0: Low risk\")\n",
    "\n",
    "plt.subplot(1, 2, 2)\n",
    "data_savings_vs_risk_class1[\"Savings_account_balance\"].value_counts().plot.bar(color=\"maroon\")\n",
    "plt.ylabel(\"Total count\")\n",
    "plt.title(\"Class 1: High risk\")\n",
    "\n",
    "plt.tight_layout()\n",
    "plt.show()"
   ]
  },
  {
   "cell_type": "markdown",
   "metadata": {},
   "source": [
    "#### Observation: 36% of the applicants in low salarly group, 33% of applicants in medium salary group, 18% of the applicants in high salary group and 13% of the applicants in very high salary group are in high risk class. Higher the balance, lesser the risk. Therefore, savings account balance impacts being in high or low risk class."
   ]
  },
  {
   "cell_type": "markdown",
   "metadata": {},
   "source": [
    "### EDA 12 - Effect of Months_loan_taken_for on risk"
   ]
  },
  {
   "cell_type": "code",
   "execution_count": 46,
   "metadata": {},
   "outputs": [
    {
     "data": {
      "text/plain": [
       "count    1000.000000\n",
       "mean       20.903000\n",
       "std        12.058814\n",
       "min         4.000000\n",
       "25%        12.000000\n",
       "50%        18.000000\n",
       "75%        24.000000\n",
       "max        72.000000\n",
       "Name: Months_loan_taken_for, dtype: float64"
      ]
     },
     "execution_count": 46,
     "metadata": {},
     "output_type": "execute_result"
    }
   ],
   "source": [
    "data_monthsLoan_vs_risk = data_all[[\"Months_loan_taken_for\",\"high_risk_applicant\"]]\n",
    "data_monthsLoan_vs_risk[\"Months_loan_taken_for\"].describe()"
   ]
  },
  {
   "cell_type": "code",
   "execution_count": 47,
   "metadata": {},
   "outputs": [
    {
     "data": {
      "text/plain": [
       "<matplotlib.axes._subplots.AxesSubplot at 0x134eda908>"
      ]
     },
     "execution_count": 47,
     "metadata": {},
     "output_type": "execute_result"
    },
    {
     "data": {
      "image/png": "[encoded data removed]",
      "text/plain": [
       "<Figure size 432x288 with 1 Axes>"
      ]
     },
     "metadata": {
      "needs_background": "light"
     },
     "output_type": "display_data"
    }
   ],
   "source": [
    "sns.barplot(x='high_risk_applicant', y='Months_loan_taken_for',data=data_monthsLoan_vs_risk)"
   ]
  },
  {
   "cell_type": "markdown",
   "metadata": {},
   "source": [
    "#### Observation: On an average applicants in high risk class (1) take loans for higher number of months."
   ]
  },
  {
   "cell_type": "code",
   "execution_count": 48,
   "metadata": {},
   "outputs": [
    {
     "data": {
      "text/plain": [
       "count    700.000000\n",
       "mean      19.207143\n",
       "std       11.079564\n",
       "min        4.000000\n",
       "25%       12.000000\n",
       "50%       18.000000\n",
       "75%       24.000000\n",
       "max       60.000000\n",
       "Name: Months_loan_taken_for, dtype: float64"
      ]
     },
     "execution_count": 48,
     "metadata": {},
     "output_type": "execute_result"
    }
   ],
   "source": [
    "data_monthsLoan_vs_risk_class0 = data_monthsLoan_vs_risk.loc[data_monthsLoan_vs_risk[\"high_risk_applicant\"]==0]\n",
    "data_monthsLoan_vs_risk_class0[\"Months_loan_taken_for\"].describe()"
   ]
  },
  {
   "cell_type": "code",
   "execution_count": 49,
   "metadata": {},
   "outputs": [
    {
     "data": {
      "text/plain": [
       "count    300.000000\n",
       "mean      24.860000\n",
       "std       13.282639\n",
       "min        6.000000\n",
       "25%       12.000000\n",
       "50%       24.000000\n",
       "75%       36.000000\n",
       "max       72.000000\n",
       "Name: Months_loan_taken_for, dtype: float64"
      ]
     },
     "execution_count": 49,
     "metadata": {},
     "output_type": "execute_result"
    }
   ],
   "source": [
    "data_monthsLoan_vs_risk_class1 = data_monthsLoan_vs_risk.loc[data_monthsLoan_vs_risk[\"high_risk_applicant\"]==1]\n",
    "data_monthsLoan_vs_risk_class1[\"Months_loan_taken_for\"].describe()"
   ]
  },
  {
   "cell_type": "code",
   "execution_count": 50,
   "metadata": {},
   "outputs": [
    {
     "data": {
      "image/png": "[encoded data removed]",
      "text/plain": [
       "<Figure size 504x360 with 1 Axes>"
      ]
     },
     "metadata": {
      "needs_background": "light"
     },
     "output_type": "display_data"
    }
   ],
   "source": [
    "plt.figure(figsize=(7,5))\n",
    "sns.distplot(data_monthsLoan_vs_risk[\"Months_loan_taken_for\"], bins=70, color=\"black\",hist=False, label=\"Applicant number of months of loan - overall\")\n",
    "sns.distplot(data_monthsLoan_vs_risk_class0[\"Months_loan_taken_for\"],bins=70, color=\"blue\", label=\"Applicant number of months of loan - not at risk\")\n",
    "sns.distplot(data_monthsLoan_vs_risk_class1[\"Months_loan_taken_for\"],bins=70, color=\"maroon\", label=\"Applicant number of months of loan - at risk\")\n",
    "plt.ylabel(\"Density\")\n",
    "plt.legend()\n",
    "plt.show()"
   ]
  },
  {
   "cell_type": "markdown",
   "metadata": {},
   "source": [
    "#### Observation: As number of months for which loan is taken increases, the 'red' curve becomes higher than the 'blue' curve. Therefore, this feature impacts the output."
   ]
  },
  {
   "cell_type": "markdown",
   "metadata": {},
   "source": [
    "### EDA 13 - Effect of Purpose on risk"
   ]
  },
  {
   "cell_type": "code",
   "execution_count": 51,
   "metadata": {},
   "outputs": [
    {
     "data": {
      "text/plain": [
       "electronic equipment    280\n",
       "new vehicle             234\n",
       "FF&E                    181\n",
       "used vehicle            103\n",
       "business                 97\n",
       "education                50\n",
       "repair costs             22\n",
       "domestic appliances      12\n",
       "career development        9\n",
       "Name: Purpose, dtype: int64"
      ]
     },
     "execution_count": 51,
     "metadata": {},
     "output_type": "execute_result"
    }
   ],
   "source": [
    "data_purpose_vs_risk = data_all[[\"Purpose\",\"high_risk_applicant\"]]\n",
    "data_purpose_vs_risk[\"Purpose\"].value_counts()"
   ]
  },
  {
   "cell_type": "code",
   "execution_count": 52,
   "metadata": {},
   "outputs": [
    {
     "data": {
      "text/plain": [
       "electronic equipment    218\n",
       "new vehicle             145\n",
       "FF&E                    123\n",
       "used vehicle             86\n",
       "business                 63\n",
       "education                28\n",
       "repair costs             14\n",
       "domestic appliances       8\n",
       "career development        8\n",
       "Name: Purpose, dtype: int64"
      ]
     },
     "execution_count": 52,
     "metadata": {},
     "output_type": "execute_result"
    }
   ],
   "source": [
    "data_purpose_vs_risk_class0 = data_purpose_vs_risk.loc[data_purpose_vs_risk[\"high_risk_applicant\"]==0]\n",
    "data_purpose_vs_risk_class0[\"Purpose\"].value_counts()"
   ]
  },
  {
   "cell_type": "code",
   "execution_count": 53,
   "metadata": {},
   "outputs": [
    {
     "data": {
      "text/plain": [
       "new vehicle             89\n",
       "electronic equipment    62\n",
       "FF&E                    58\n",
       "business                34\n",
       "education               22\n",
       "used vehicle            17\n",
       "repair costs             8\n",
       "domestic appliances      4\n",
       "career development       1\n",
       "Name: Purpose, dtype: int64"
      ]
     },
     "execution_count": 53,
     "metadata": {},
     "output_type": "execute_result"
    }
   ],
   "source": [
    "data_purpose_vs_risk_class1 = data_purpose_vs_risk.loc[data_purpose_vs_risk[\"high_risk_applicant\"]==1]\n",
    "data_purpose_vs_risk_class1[\"Purpose\"].value_counts()"
   ]
  },
  {
   "cell_type": "code",
   "execution_count": 54,
   "metadata": {},
   "outputs": [
    {
     "data": {
      "image/png": "[encoded data removed]",
      "text/plain": [
       "<Figure size 720x288 with 2 Axes>"
      ]
     },
     "metadata": {
      "needs_background": "light"
     },
     "output_type": "display_data"
    }
   ],
   "source": [
    "plt.figure(figsize=(10,4))\n",
    "\n",
    "plt.subplot(1, 2, 1)\n",
    "data_purpose_vs_risk_class0[\"Purpose\"].value_counts().plot.bar(color=\"blue\")\n",
    "plt.ylabel(\"Total count\")\n",
    "plt.title(\"Class 0: Low risk\")\n",
    "\n",
    "plt.subplot(1, 2, 2)\n",
    "data_purpose_vs_risk_class1[\"Purpose\"].value_counts().plot.bar(color=\"maroon\")\n",
    "plt.ylabel(\"Total count\")\n",
    "plt.title(\"Class 1: High risk\")\n",
    "\n",
    "plt.tight_layout()\n",
    "plt.show()"
   ]
  },
  {
   "cell_type": "markdown",
   "metadata": {},
   "source": [
    "#### Observation: Given the purpose, applicants can be in class 1 more for certain categories than the other. Purpose column can impact the output."
   ]
  },
  {
   "cell_type": "markdown",
   "metadata": {},
   "source": [
    "### EDA 14 - Effect of Principal loan amount on risk"
   ]
  },
  {
   "cell_type": "code",
   "execution_count": 55,
   "metadata": {},
   "outputs": [
    {
     "data": {
      "text/plain": [
       "count    1.000000e+03\n",
       "mean     3.271258e+06\n",
       "std      2.822737e+06\n",
       "min      2.500000e+05\n",
       "25%      1.365500e+06\n",
       "50%      2.319500e+06\n",
       "75%      3.972250e+06\n",
       "max      1.842400e+07\n",
       "Name: Principal_loan_amount, dtype: float64"
      ]
     },
     "execution_count": 55,
     "metadata": {},
     "output_type": "execute_result"
    }
   ],
   "source": [
    "data_loanAmount_vs_risk = data_all[[\"Principal_loan_amount\",\"high_risk_applicant\"]]\n",
    "data_loanAmount_vs_risk[\"Principal_loan_amount\"].describe()"
   ]
  },
  {
   "cell_type": "code",
   "execution_count": 56,
   "metadata": {},
   "outputs": [
    {
     "data": {
      "text/plain": [
       "<matplotlib.axes._subplots.AxesSubplot at 0x134a1c390>"
      ]
     },
     "execution_count": 56,
     "metadata": {},
     "output_type": "execute_result"
    },
    {
     "data": {
      "image/png": "[encoded data removed]",
      "text/plain": [
       "<Figure size 432x288 with 1 Axes>"
      ]
     },
     "metadata": {
      "needs_background": "light"
     },
     "output_type": "display_data"
    }
   ],
   "source": [
    "sns.barplot(x='high_risk_applicant', y='Principal_loan_amount',data=data_loanAmount_vs_risk)"
   ]
  },
  {
   "cell_type": "markdown",
   "metadata": {},
   "source": [
    "#### Observation: Applicants in class 1 on an average take loan of larger amounts than those in class 0."
   ]
  },
  {
   "cell_type": "code",
   "execution_count": 57,
   "metadata": {},
   "outputs": [
    {
     "data": {
      "text/plain": [
       "count    7.000000e+02\n",
       "mean     2.985457e+06\n",
       "std      2.401472e+06\n",
       "min      2.500000e+05\n",
       "25%      1.375500e+06\n",
       "50%      2.244000e+06\n",
       "75%      3.634750e+06\n",
       "max      1.585700e+07\n",
       "Name: Principal_loan_amount, dtype: float64"
      ]
     },
     "execution_count": 57,
     "metadata": {},
     "output_type": "execute_result"
    }
   ],
   "source": [
    "data_loanAmount_vs_risk_class0 = data_loanAmount_vs_risk.loc[data_loanAmount_vs_risk[\"high_risk_applicant\"]==0]\n",
    "data_loanAmount_vs_risk_class0[\"Principal_loan_amount\"].describe()"
   ]
  },
  {
   "cell_type": "code",
   "execution_count": 58,
   "metadata": {},
   "outputs": [
    {
     "data": {
      "text/plain": [
       "count    3.000000e+02\n",
       "mean     3.938127e+06\n",
       "std      3.535819e+06\n",
       "min      4.330000e+05\n",
       "25%      1.352500e+06\n",
       "50%      2.574500e+06\n",
       "75%      5.141500e+06\n",
       "max      1.842400e+07\n",
       "Name: Principal_loan_amount, dtype: float64"
      ]
     },
     "execution_count": 58,
     "metadata": {},
     "output_type": "execute_result"
    }
   ],
   "source": [
    "data_loanAmount_vs_risk_class1 = data_loanAmount_vs_risk.loc[data_loanAmount_vs_risk[\"high_risk_applicant\"]==1]\n",
    "data_loanAmount_vs_risk_class1[\"Principal_loan_amount\"].describe()"
   ]
  },
  {
   "cell_type": "code",
   "execution_count": 59,
   "metadata": {},
   "outputs": [
    {
     "data": {
      "image/png": "[encoded data removed]",
      "text/plain": [
       "<Figure size 504x360 with 1 Axes>"
      ]
     },
     "metadata": {
      "needs_background": "light"
     },
     "output_type": "display_data"
    }
   ],
   "source": [
    "plt.figure(figsize=(7,5))\n",
    "sns.distplot(data_loanAmount_vs_risk[\"Principal_loan_amount\"], bins=70, color=\"black\",hist=False, label=\"Applicant loan amt - overall\")\n",
    "sns.distplot(data_loanAmount_vs_risk_class0[\"Principal_loan_amount\"],bins=70, color=\"blue\", label=\"Applicant loan amt - not at risk\")\n",
    "sns.distplot(data_loanAmount_vs_risk_class1[\"Principal_loan_amount\"],bins=70, color=\"maroon\", label=\"Applicant loan amt - at risk\")\n",
    "plt.ylabel(\"Density\")\n",
    "plt.legend()\n",
    "plt.show()"
   ]
  },
  {
   "cell_type": "markdown",
   "metadata": {},
   "source": [
    "#### Observation: As loan amount increases, chance of being in class 1 increases. "
   ]
  },
  {
   "cell_type": "markdown",
   "metadata": {},
   "source": [
    "### EDA 15 - Effect of EMI on risk"
   ]
  },
  {
   "cell_type": "code",
   "execution_count": 60,
   "metadata": {},
   "outputs": [
    {
     "data": {
      "text/plain": [
       "count    1000.000000\n",
       "mean        2.973000\n",
       "std         1.118715\n",
       "min         1.000000\n",
       "25%         2.000000\n",
       "50%         3.000000\n",
       "75%         4.000000\n",
       "max         4.000000\n",
       "Name: EMI_rate_in_percentage_of_disposable_income, dtype: float64"
      ]
     },
     "execution_count": 60,
     "metadata": {},
     "output_type": "execute_result"
    }
   ],
   "source": [
    "data_EMI_vs_risk = data_all[[\"EMI_rate_in_percentage_of_disposable_income\",\"high_risk_applicant\"]]\n",
    "data_EMI_vs_risk[\"EMI_rate_in_percentage_of_disposable_income\"].describe()"
   ]
  },
  {
   "cell_type": "code",
   "execution_count": 61,
   "metadata": {},
   "outputs": [
    {
     "data": {
      "text/plain": [
       "<matplotlib.axes._subplots.AxesSubplot at 0x134688208>"
      ]
     },
     "execution_count": 61,
     "metadata": {},
     "output_type": "execute_result"
    },
    {
     "data": {
      "image/png": "[encoded data removed]",
      "text/plain": [
       "<Figure size 432x288 with 1 Axes>"
      ]
     },
     "metadata": {
      "needs_background": "light"
     },
     "output_type": "display_data"
    }
   ],
   "source": [
    "sns.barplot(x='high_risk_applicant', y='EMI_rate_in_percentage_of_disposable_income',data=data_EMI_vs_risk)"
   ]
  },
  {
   "cell_type": "markdown",
   "metadata": {},
   "source": [
    "#### Observation: Applicants in class 1 have slightly higher EMI rate than those belonging to class 0. EMI rate has an impact on being assigned to a particualr class."
   ]
  },
  {
   "cell_type": "code",
   "execution_count": 62,
   "metadata": {},
   "outputs": [
    {
     "data": {
      "text/plain": [
       "count    700.000000\n",
       "mean       2.920000\n",
       "std        1.128078\n",
       "min        1.000000\n",
       "25%        2.000000\n",
       "50%        3.000000\n",
       "75%        4.000000\n",
       "max        4.000000\n",
       "Name: EMI_rate_in_percentage_of_disposable_income, dtype: float64"
      ]
     },
     "execution_count": 62,
     "metadata": {},
     "output_type": "execute_result"
    }
   ],
   "source": [
    "data_EMI_vs_risk_class0 = data_EMI_vs_risk.loc[data_EMI_vs_risk[\"high_risk_applicant\"]==0]\n",
    "data_EMI_vs_risk_class0[\"EMI_rate_in_percentage_of_disposable_income\"].describe()"
   ]
  },
  {
   "cell_type": "code",
   "execution_count": 63,
   "metadata": {},
   "outputs": [
    {
     "data": {
      "text/plain": [
       "count    300.000000\n",
       "mean       3.096667\n",
       "std        1.088395\n",
       "min        1.000000\n",
       "25%        2.000000\n",
       "50%        4.000000\n",
       "75%        4.000000\n",
       "max        4.000000\n",
       "Name: EMI_rate_in_percentage_of_disposable_income, dtype: float64"
      ]
     },
     "execution_count": 63,
     "metadata": {},
     "output_type": "execute_result"
    }
   ],
   "source": [
    "data_EMI_vs_risk_class1 = data_EMI_vs_risk.loc[data_EMI_vs_risk[\"high_risk_applicant\"]==1]\n",
    "data_EMI_vs_risk_class1[\"EMI_rate_in_percentage_of_disposable_income\"].describe()"
   ]
  },
  {
   "cell_type": "code",
   "execution_count": 64,
   "metadata": {},
   "outputs": [
    {
     "data": {
      "image/png": "[encoded data removed]",
      "text/plain": [
       "<Figure size 504x360 with 1 Axes>"
      ]
     },
     "metadata": {
      "needs_background": "light"
     },
     "output_type": "display_data"
    }
   ],
   "source": [
    "plt.figure(figsize=(7,5))\n",
    "sns.distplot(data_EMI_vs_risk[\"EMI_rate_in_percentage_of_disposable_income\"], bins=70, color=\"black\",hist=False, label=\"Applicant loan amt - overall\")\n",
    "sns.distplot(data_EMI_vs_risk_class0[\"EMI_rate_in_percentage_of_disposable_income\"],bins=70, color=\"blue\", label=\"Applicant loan amt - not at risk\")\n",
    "sns.distplot(data_EMI_vs_risk_class1[\"EMI_rate_in_percentage_of_disposable_income\"],bins=70, color=\"maroon\", label=\"Applicant loan amt - at risk\")\n",
    "plt.ylabel(\"Density\")\n",
    "plt.legend()\n",
    "plt.show()"
   ]
  },
  {
   "cell_type": "markdown",
   "metadata": {},
   "source": [
    "#### Observation: More applicants for EMI rate 4 belong to class 1. "
   ]
  },
  {
   "cell_type": "markdown",
   "metadata": {},
   "source": [
    "### EDA 16 - Effect of Property on risk"
   ]
  },
  {
   "cell_type": "code",
   "execution_count": 65,
   "metadata": {},
   "outputs": [
    {
     "data": {
      "text/plain": [
       "car or other                                         332\n",
       "real estate                                          282\n",
       "building society savings agreement/life insurance    232\n",
       "Name: Property, dtype: int64"
      ]
     },
     "execution_count": 65,
     "metadata": {},
     "output_type": "execute_result"
    }
   ],
   "source": [
    "data_property_vs_risk = data_all[[\"Property\",\"high_risk_applicant\"]]\n",
    "data_property_vs_risk[\"Property\"].value_counts()"
   ]
  },
  {
   "cell_type": "code",
   "execution_count": 66,
   "metadata": {},
   "outputs": [
    {
     "data": {
      "text/plain": [
       "car or other                                         230\n",
       "real estate                                          222\n",
       "building society savings agreement/life insurance    161\n",
       "Name: Property, dtype: int64"
      ]
     },
     "execution_count": 66,
     "metadata": {},
     "output_type": "execute_result"
    }
   ],
   "source": [
    "data_property_vs_risk_class0 = data_property_vs_risk.loc[data_property_vs_risk[\"high_risk_applicant\"]==0]\n",
    "data_property_vs_risk_class0[\"Property\"].value_counts()"
   ]
  },
  {
   "cell_type": "code",
   "execution_count": 67,
   "metadata": {},
   "outputs": [
    {
     "data": {
      "text/plain": [
       "car or other                                         102\n",
       "building society savings agreement/life insurance     71\n",
       "real estate                                           60\n",
       "Name: Property, dtype: int64"
      ]
     },
     "execution_count": 67,
     "metadata": {},
     "output_type": "execute_result"
    }
   ],
   "source": [
    "data_property_vs_risk_class1 = data_property_vs_risk.loc[data_property_vs_risk[\"high_risk_applicant\"]==1]\n",
    "data_property_vs_risk_class1[\"Property\"].value_counts()"
   ]
  },
  {
   "cell_type": "code",
   "execution_count": 68,
   "metadata": {},
   "outputs": [
    {
     "data": {
      "image/png": "[encoded data removed]",
      "text/plain": [
       "<Figure size 1800x504 with 2 Axes>"
      ]
     },
     "metadata": {
      "needs_background": "light"
     },
     "output_type": "display_data"
    }
   ],
   "source": [
    "plt.figure(figsize=(25,7))\n",
    "\n",
    "plt.subplot(1, 2, 1)\n",
    "data_property_vs_risk_class0[\"Property\"].value_counts().plot.barh(color=\"blue\")\n",
    "plt.xlabel(\"Total count\")\n",
    "plt.title(\"Class 0: Low risk\")\n",
    "\n",
    "plt.subplot(1, 2, 2)\n",
    "data_property_vs_risk_class1[\"Property\"].value_counts().plot.barh(color=\"maroon\")\n",
    "plt.xlabel(\"Total count\")\n",
    "plt.title(\"Class 1: High risk\")\n",
    "\n",
    "plt.tight_layout()\n",
    "plt.show()"
   ]
  },
  {
   "cell_type": "markdown",
   "metadata": {},
   "source": [
    "#### Observation: ~22% applicants with real estate belong to class 1, ~31% applicants from each other group belong to class 1. Property may have an impact on the output variable."
   ]
  },
  {
   "cell_type": "markdown",
   "metadata": {},
   "source": [
    "### EDA 17 - Effect of Has_coapplicant on risk"
   ]
  },
  {
   "cell_type": "code",
   "execution_count": 69,
   "metadata": {},
   "outputs": [
    {
     "data": {
      "text/plain": [
       "0    959\n",
       "1     41\n",
       "Name: Has_coapplicant, dtype: int64"
      ]
     },
     "execution_count": 69,
     "metadata": {},
     "output_type": "execute_result"
    }
   ],
   "source": [
    "data_co_vs_risk = data_all[[\"Has_coapplicant\",\"high_risk_applicant\"]]\n",
    "data_co_vs_risk[\"Has_coapplicant\"].value_counts()"
   ]
  },
  {
   "cell_type": "markdown",
   "metadata": {},
   "source": [
    "#### Observation: This column has very low variance and 95% of the values are same, thus will not impact the output."
   ]
  },
  {
   "cell_type": "markdown",
   "metadata": {},
   "source": [
    "### EDA 18 - Effect of Guarantor on risk"
   ]
  },
  {
   "cell_type": "code",
   "execution_count": 70,
   "metadata": {},
   "outputs": [
    {
     "data": {
      "text/plain": [
       "0    948\n",
       "1     52\n",
       "Name: Has_guarantor, dtype: int64"
      ]
     },
     "execution_count": 70,
     "metadata": {},
     "output_type": "execute_result"
    }
   ],
   "source": [
    "data_guarantor_vs_risk = data_all[[\"Has_guarantor\",\"high_risk_applicant\"]]\n",
    "data_guarantor_vs_risk[\"Has_guarantor\"].value_counts()"
   ]
  },
  {
   "cell_type": "markdown",
   "metadata": {},
   "source": [
    "#### Observation: This column has very low variance and 94% of the values are same, thus will not impact the output."
   ]
  },
  {
   "cell_type": "markdown",
   "metadata": {},
   "source": [
    "### EDA 19 - Effect of Number of existing loans on risk"
   ]
  },
  {
   "cell_type": "code",
   "execution_count": 71,
   "metadata": {},
   "outputs": [
    {
     "data": {
      "text/plain": [
       "count    1000.000000\n",
       "mean        1.407000\n",
       "std         0.577654\n",
       "min         1.000000\n",
       "25%         1.000000\n",
       "50%         1.000000\n",
       "75%         2.000000\n",
       "max         4.000000\n",
       "Name: Number_of_existing_loans_at_this_bank, dtype: float64"
      ]
     },
     "execution_count": 71,
     "metadata": {},
     "output_type": "execute_result"
    }
   ],
   "source": [
    "data_exisitngLoans_vs_risk = data_all[[\"Number_of_existing_loans_at_this_bank\",\"high_risk_applicant\"]]\n",
    "data_exisitngLoans_vs_risk[\"Number_of_existing_loans_at_this_bank\"].describe()"
   ]
  },
  {
   "cell_type": "code",
   "execution_count": 72,
   "metadata": {},
   "outputs": [
    {
     "data": {
      "text/plain": [
       "1    633\n",
       "2    333\n",
       "3     28\n",
       "4      6\n",
       "Name: Number_of_existing_loans_at_this_bank, dtype: int64"
      ]
     },
     "execution_count": 72,
     "metadata": {},
     "output_type": "execute_result"
    }
   ],
   "source": [
    "data_exisitngLoans_vs_risk[\"Number_of_existing_loans_at_this_bank\"].value_counts()"
   ]
  },
  {
   "cell_type": "code",
   "execution_count": 73,
   "metadata": {},
   "outputs": [
    {
     "data": {
      "text/plain": [
       "1    433\n",
       "2    241\n",
       "3     22\n",
       "4      4\n",
       "Name: Number_of_existing_loans_at_this_bank, dtype: int64"
      ]
     },
     "execution_count": 73,
     "metadata": {},
     "output_type": "execute_result"
    }
   ],
   "source": [
    "data_exisitngLoans_vs_risk_class0 = data_exisitngLoans_vs_risk.loc[data_exisitngLoans_vs_risk[\"high_risk_applicant\"]==0]\n",
    "data_exisitngLoans_vs_risk_class0[\"Number_of_existing_loans_at_this_bank\"].value_counts()"
   ]
  },
  {
   "cell_type": "code",
   "execution_count": 74,
   "metadata": {},
   "outputs": [
    {
     "data": {
      "text/plain": [
       "1    200\n",
       "2     92\n",
       "3      6\n",
       "4      2\n",
       "Name: Number_of_existing_loans_at_this_bank, dtype: int64"
      ]
     },
     "execution_count": 74,
     "metadata": {},
     "output_type": "execute_result"
    }
   ],
   "source": [
    "data_exisitngLoans_vs_risk_class1 = data_exisitngLoans_vs_risk.loc[data_exisitngLoans_vs_risk[\"high_risk_applicant\"]==1]\n",
    "data_exisitngLoans_vs_risk_class1[\"Number_of_existing_loans_at_this_bank\"].value_counts()"
   ]
  },
  {
   "cell_type": "code",
   "execution_count": 75,
   "metadata": {},
   "outputs": [
    {
     "data": {
      "image/png": "[encoded data removed]",
      "text/plain": [
       "<Figure size 720x288 with 2 Axes>"
      ]
     },
     "metadata": {
      "needs_background": "light"
     },
     "output_type": "display_data"
    }
   ],
   "source": [
    "plt.figure(figsize=(10,4))\n",
    "\n",
    "plt.subplot(1, 2, 1)\n",
    "data_exisitngLoans_vs_risk_class0[\"Number_of_existing_loans_at_this_bank\"].value_counts().plot.bar(color=\"blue\")\n",
    "plt.xlabel(\"Total count\")\n",
    "plt.title(\"Class 0: Low risk\")\n",
    "\n",
    "plt.subplot(1, 2, 2)\n",
    "data_exisitngLoans_vs_risk_class1[\"Number_of_existing_loans_at_this_bank\"].value_counts().plot.bar(color=\"maroon\")\n",
    "plt.xlabel(\"Total count\")\n",
    "plt.title(\"Class 1: High risk\")\n",
    "\n",
    "plt.tight_layout()\n",
    "plt.show()"
   ]
  },
  {
   "cell_type": "markdown",
   "metadata": {},
   "source": [
    "#### Observation:  Ceratin % of applicants from each group belong to class 1. This may have an impact on the output."
   ]
  },
  {
   "cell_type": "markdown",
   "metadata": {},
   "source": [
    "### EDA 20 - Effect of Loan_history on risk"
   ]
  },
  {
   "cell_type": "code",
   "execution_count": 76,
   "metadata": {},
   "outputs": [
    {
     "data": {
      "text/plain": [
       "existing loans paid back duly till now     530\n",
       "critical/pending loans at other banks      293\n",
       "delay in paying off loans in the past       88\n",
       "all loans at this bank paid back duly       49\n",
       "no loans taken/all loans paid back duly     40\n",
       "Name: Loan_history, dtype: int64"
      ]
     },
     "execution_count": 76,
     "metadata": {},
     "output_type": "execute_result"
    }
   ],
   "source": [
    "data_history_vs_risk = data_all[[\"Loan_history\",\"high_risk_applicant\"]]\n",
    "data_history_vs_risk[\"Loan_history\"].value_counts()"
   ]
  },
  {
   "cell_type": "code",
   "execution_count": 77,
   "metadata": {},
   "outputs": [
    {
     "data": {
      "text/plain": [
       "existing loans paid back duly till now     361\n",
       "critical/pending loans at other banks      243\n",
       "delay in paying off loans in the past       60\n",
       "all loans at this bank paid back duly       21\n",
       "no loans taken/all loans paid back duly     15\n",
       "Name: Loan_history, dtype: int64"
      ]
     },
     "execution_count": 77,
     "metadata": {},
     "output_type": "execute_result"
    }
   ],
   "source": [
    "data_history_vs_risk_class0 = data_history_vs_risk.loc[data_history_vs_risk[\"high_risk_applicant\"]==0]\n",
    "data_history_vs_risk_class0[\"Loan_history\"].value_counts()"
   ]
  },
  {
   "cell_type": "code",
   "execution_count": 78,
   "metadata": {},
   "outputs": [
    {
     "data": {
      "text/plain": [
       "existing loans paid back duly till now     169\n",
       "critical/pending loans at other banks       50\n",
       "delay in paying off loans in the past       28\n",
       "all loans at this bank paid back duly       28\n",
       "no loans taken/all loans paid back duly     25\n",
       "Name: Loan_history, dtype: int64"
      ]
     },
     "execution_count": 78,
     "metadata": {},
     "output_type": "execute_result"
    }
   ],
   "source": [
    "data_history_vs_risk_class1 = data_history_vs_risk.loc[data_history_vs_risk[\"high_risk_applicant\"]==1]\n",
    "data_history_vs_risk_class1[\"Loan_history\"].value_counts()"
   ]
  },
  {
   "cell_type": "code",
   "execution_count": 79,
   "metadata": {},
   "outputs": [
    {
     "data": {
      "image/png": "[encoded data removed]",
      "text/plain": [
       "<Figure size 1800x504 with 2 Axes>"
      ]
     },
     "metadata": {
      "needs_background": "light"
     },
     "output_type": "display_data"
    }
   ],
   "source": [
    "plt.figure(figsize=(25,7))\n",
    "\n",
    "plt.subplot(1, 2, 1)\n",
    "data_history_vs_risk_class0[\"Loan_history\"].value_counts().plot.barh(color=\"blue\")\n",
    "plt.xlabel(\"Total count\")\n",
    "plt.title(\"Class 0: Low risk\")\n",
    "\n",
    "plt.subplot(1, 2, 2)\n",
    "data_history_vs_risk_class1[\"Loan_history\"].value_counts().plot.barh(color=\"maroon\")\n",
    "plt.xlabel(\"Total count\")\n",
    "plt.title(\"Class 1: High risk\")\n",
    "\n",
    "plt.tight_layout()\n",
    "plt.show()"
   ]
  },
  {
   "cell_type": "markdown",
   "metadata": {},
   "source": [
    "#### Observation: For class 1: existing loans paid back duly till now: 169 (169/530 ~ 32%) ; critical/pending loans at other banks:  50 (50/293 ~ 17%); all loans at this bank paid back duly:  28 (28/49 ~ 58%); delay in paying off loans in the past:  28 (28/88 ~ 32%) ; no loans taken/all loans paid back duly: 25 (25/40 ~ 63%)\n"
   ]
  },
  {
   "cell_type": "markdown",
   "metadata": {},
   "source": [
    "#### From the EDA the following columns can be dropped:\n",
    "1. Marital status - the status categories are ambiguous \n",
    "2. Number of dependents - Variance is very low in this column; 85% of the column has only one value\n",
    "3. Number of years at current residence - Variance is very low in this column; On an avergae number of years \n",
    "is same for both the classes, hence will not contribute to learning. \n",
    "4. Has_been_employed_for_at_least\n",
    "5. Has_been_employed_for_at_most - These two are ambiguous, has NULL values and redundant since there is already emplyment status\n",
    "6. Foreign worker\n",
    "7. Co-applicant\n",
    "8. Guarantor - Variance is very low in these columns; 95% of the column has only one value"
   ]
  },
  {
   "cell_type": "code",
   "execution_count": 80,
   "metadata": {},
   "outputs": [
    {
     "name": "stdout",
     "output_type": "stream",
     "text": [
      "<class 'pandas.core.frame.DataFrame'>\n",
      "Int64Index: 1000 entries, 0 to 999\n",
      "Data columns (total 13 columns):\n",
      "Primary_applicant_age_in_years                 1000 non-null int64\n",
      "Gender                                         1000 non-null object\n",
      "Housing                                        1000 non-null object\n",
      "Employment_status                              1000 non-null object\n",
      "Savings_account_balance                        817 non-null object\n",
      "Months_loan_taken_for                          1000 non-null int64\n",
      "Purpose                                        988 non-null object\n",
      "Principal_loan_amount                          1000 non-null int64\n",
      "EMI_rate_in_percentage_of_disposable_income    1000 non-null int64\n",
      "Property                                       846 non-null object\n",
      "Number_of_existing_loans_at_this_bank          1000 non-null int64\n",
      "Loan_history                                   1000 non-null object\n",
      "high_risk_applicant                            1000 non-null int64\n",
      "dtypes: int64(6), object(7)\n",
      "memory usage: 149.4+ KB\n"
     ]
    }
   ],
   "source": [
    "data_afterEDA = data_all.drop(['applicant_id','Marital_status', 'Number_of_dependents', 'Years_at_current_residence', 'Has_been_employed_for_at_least', 'Has_been_employed_for_at_most','Foreign_worker','loan_application_id','Has_coapplicant','Has_guarantor'], axis=1)\n",
    "data_afterEDA.info()\n",
    "data_afterEDA.drop_duplicates(inplace=True)"
   ]
  },
  {
   "cell_type": "markdown",
   "metadata": {},
   "source": [
    "### For missing categorical variables:\n",
    "1. If number of missing values is less, replace using Mode\n",
    "2. If number of missing values is high, replace using new category Unknwown"
   ]
  },
  {
   "cell_type": "code",
   "execution_count": 81,
   "metadata": {},
   "outputs": [],
   "source": [
    "data_afterEDA[\"Purpose\"].fillna('electronic equipment', inplace=True)\n",
    "data_afterEDA[\"Savings_account_balance\"].fillna('U1', inplace=True)\n",
    "data_afterEDA[\"Property\"].fillna('U2', inplace=True)"
   ]
  },
  {
   "cell_type": "markdown",
   "metadata": {},
   "source": [
    "### Encode categorical variables:\n",
    "1. If categorical variables are ordinal, use idea of label encoder\n",
    "2. If categorical variables are not ordinal, use idea of one hot encoder"
   ]
  },
  {
   "cell_type": "code",
   "execution_count": 82,
   "metadata": {},
   "outputs": [],
   "source": [
    "data_afterEDA['Gender'].replace(['male','female'],[0,1],inplace=True)\n",
    "data_afterEDA['Savings_account_balance'].replace(['U1','Low', 'Medium','High','Very high'],[0,1,3,4,5],inplace=True)\n",
    "data_afterEDA['Employment_status'].replace(['unskilled - resident','unemployed / unskilled - non-resident', 'skilled employee / official','management / self-employed / highly qualified employee / officer'],[0,1,3,4],inplace=True)"
   ]
  },
  {
   "cell_type": "code",
   "execution_count": 83,
   "metadata": {},
   "outputs": [],
   "source": [
    "dummy_purpose = pd.get_dummies(data_afterEDA[\"Purpose\"],dtype=int)\n",
    "dummy_purpose_corr_mat = dummy_purpose.corr()\n",
    "data_afterEDA = pd.concat([data_afterEDA,dummy_purpose],axis=1)\n",
    "data_afterEDA.drop(columns=['Purpose'],axis=1,inplace=True)\n",
    "\n",
    "dummy_property = pd.get_dummies(data_afterEDA[\"Property\"],dtype=int)\n",
    "dummy_property_corr_mat = dummy_property.corr()\n",
    "data_afterEDA = pd.concat([data_afterEDA,dummy_property],axis=1)\n",
    "data_afterEDA.drop(columns=['Property'],axis=1,inplace=True)\n",
    "\n",
    "dummy_housing = pd.get_dummies(data_afterEDA[\"Housing\"],dtype=int)\n",
    "dummy_housing_corr_mat = dummy_housing.corr()\n",
    "data_afterEDA = pd.concat([data_afterEDA,dummy_housing],axis=1)\n",
    "data_afterEDA.drop(columns=['Housing'],axis=1,inplace=True)\n",
    "\n",
    "dummy_loanHist = pd.get_dummies(data_afterEDA[\"Loan_history\"],dtype=int)\n",
    "dummy_loanHist_corr_mat = dummy_loanHist.corr()\n",
    "data_afterEDA = pd.concat([data_afterEDA,dummy_loanHist],axis=1)\n",
    "data_afterEDA.drop(columns=['Loan_history'],axis=1,inplace=True)"
   ]
  },
  {
   "cell_type": "markdown",
   "metadata": {},
   "source": [
    "### Define feature and target variables; and obtain mututal information of each feature w.r.t. target"
   ]
  },
  {
   "cell_type": "code",
   "execution_count": 84,
   "metadata": {},
   "outputs": [
    {
     "name": "stdout",
     "output_type": "stream",
     "text": [
      "Mutual Information:\n",
      " [0.00712989 0.         0.         0.01853588 0.0322349  0.01174572\n",
      " 0.00334271 0.         0.02299725 0.00610438 0.         0.\n",
      " 0.00115804 0.         0.00898169 0.00163511 0.         0.00773347\n",
      " 0.         0.01076919 0.01204261 0.00932981 0.01401288 0.00208211\n",
      " 0.03461835 0.02937116 0.         0.01017399 0.01572109]\n"
     ]
    }
   ],
   "source": [
    "features_data = data_afterEDA.drop(['high_risk_applicant'], axis=1)\n",
    "target_data = pd.DataFrame(data_afterEDA['high_risk_applicant'])\n",
    "\n",
    "features_data_scaled = pd.DataFrame(preprocessing.StandardScaler().fit_transform(features_data))\n",
    "\n",
    "MI = mutual_info_classif(np.array(features_data_scaled), np.array(data_afterEDA['high_risk_applicant']), discrete_features=False)\n",
    "print(\"Mutual Information:\\n\",MI)"
   ]
  },
  {
   "cell_type": "markdown",
   "metadata": {},
   "source": [
    "#### Observation: Mututal information computes dependency between variables (here, dependency of target on fetaures). Higher values mean higher dependency. The score computation is based on entropy estimation.                                                                               The above mutual inforamtion scores are low; Imbalanced class can be one reason. "
   ]
  },
  {
   "cell_type": "markdown",
   "metadata": {},
   "source": [
    "### Use oversampling to overcome class imbalance"
   ]
  },
  {
   "cell_type": "code",
   "execution_count": 85,
   "metadata": {},
   "outputs": [
    {
     "name": "stdout",
     "output_type": "stream",
     "text": [
      "Mutual Information:\n",
      " [0.01142473 0.00599041 0.02291213 0.03723567 0.08825438 0.11232405\n",
      " 0.02306935 0.03059171 0.00068737 0.         0.00921602 0.00364705\n",
      " 0.         0.0494254  0.         0.         0.03008425 0.\n",
      " 0.00761399 0.004196   0.034054   0.00189251 0.05380165 0.01157556\n",
      " 0.         0.05568862 0.         0.         0.02745008]\n"
     ]
    }
   ],
   "source": [
    "smote = SMOTE(k_neighbors=5, random_state=999)\n",
    "X, Y = smote.fit_resample(features_data, target_data)\n",
    "\n",
    "X_scaled = pd.DataFrame(preprocessing.StandardScaler().fit_transform(X))\n",
    "\n",
    "MI = mutual_info_classif(np.array(X_scaled), np.array(Y['high_risk_applicant']), discrete_features=False)\n",
    "print(\"Mutual Information:\\n\",MI)"
   ]
  },
  {
   "cell_type": "markdown",
   "metadata": {},
   "source": [
    "#### Observation: Mutual inforamtion score improves for majority of the features after oversampling. "
   ]
  },
  {
   "cell_type": "markdown",
   "metadata": {},
   "source": [
    "### Prepare data for modelling"
   ]
  },
  {
   "cell_type": "code",
   "execution_count": 86,
   "metadata": {},
   "outputs": [],
   "source": [
    "x_train, x_test, y_train, y_test = train_test_split(X, Y, test_size=0.2, random_state=999)\n",
    "\n",
    "train_mean = x_train.mean()\n",
    "train_std = x_train.std()\n",
    "x_train_scaled = (x_train - train_mean)/train_std\n",
    "x_test_scaled = (x_test - train_mean)/train_std"
   ]
  },
  {
   "cell_type": "markdown",
   "metadata": {},
   "source": [
    "### Modelling using Logistic Regression"
   ]
  },
  {
   "cell_type": "code",
   "execution_count": 87,
   "metadata": {},
   "outputs": [
    {
     "name": "stdout",
     "output_type": "stream",
     "text": [
      "Cross validation scores:\n",
      " [0.79464286 0.79464286 0.85714286 0.72321429 0.79464286 0.75892857\n",
      " 0.75892857 0.83928571 0.78571429 0.76785714]\n"
     ]
    }
   ],
   "source": [
    "lr = LogisticRegression()\n",
    "print(\"Cross validation scores:\\n\",cross_val_score(lr, x_train_scaled, y_train, cv=10))\n",
    "\n",
    "lr.fit(x_train_scaled, y_train)\n",
    "pred_vals = lr.predict(x_test_scaled)\n",
    "\n",
    "pred_vals_df = pd.DataFrame(pred_vals)"
   ]
  },
  {
   "cell_type": "code",
   "execution_count": 88,
   "metadata": {},
   "outputs": [
    {
     "data": {
      "image/png": "[encoded data removed]",
      "text/plain": [
       "<Figure size 432x288 with 2 Axes>"
      ]
     },
     "metadata": {
      "needs_background": "light"
     },
     "output_type": "display_data"
    }
   ],
   "source": [
    "conf = confusion_matrix(y_test,pred_vals_df)\n",
    "label = [0,1]\n",
    "sns.heatmap(conf, annot=True, xticklabels=label, yticklabels=label,cmap='Blues', fmt='g')\n",
    "plt.show()"
   ]
  },
  {
   "cell_type": "code",
   "execution_count": 89,
   "metadata": {},
   "outputs": [
    {
     "name": "stdout",
     "output_type": "stream",
     "text": [
      "              precision    recall  f1-score   support\n",
      "\n",
      "           0       0.82      0.95      0.88       140\n",
      "           1       0.94      0.79      0.86       140\n",
      "\n",
      "    accuracy                           0.87       280\n",
      "   macro avg       0.88      0.87      0.87       280\n",
      "weighted avg       0.88      0.87      0.87       280\n",
      "\n"
     ]
    }
   ],
   "source": [
    "print(classification_report(y_test,pred_vals_df, labels=label))"
   ]
  },
  {
   "cell_type": "code",
   "execution_count": 90,
   "metadata": {},
   "outputs": [
    {
     "name": "stdout",
     "output_type": "stream",
     "text": [
      "AUC score:  0.8678571428571428\n"
     ]
    },
    {
     "data": {
      "image/png": "[encoded data removed]",
      "text/plain": [
       "<Figure size 432x288 with 1 Axes>"
      ]
     },
     "metadata": {
      "needs_background": "light"
     },
     "output_type": "display_data"
    }
   ],
   "source": [
    "fpr, tpr, _ = metrics.roc_curve(y_test, pred_vals_df)\n",
    "auc = metrics.roc_auc_score(y_test, pred_vals_df)\n",
    "print(\"AUC score: \",auc)\n",
    "plt.plot(fpr,tpr, label=\"auc=\"+str(auc))\n",
    "plt.legend(loc=4)\n",
    "plt.show()"
   ]
  },
  {
   "cell_type": "markdown",
   "metadata": {},
   "source": [
    "#### Obseravtion: A basic linear classifier is used for classification. Note: The same classifier performs worse without oversampling. Less than 50% of the cases in class 1 got correctly classified using the original dataset. "
   ]
  },
  {
   "cell_type": "markdown",
   "metadata": {},
   "source": [
    "### Modelling using SVM"
   ]
  },
  {
   "cell_type": "code",
   "execution_count": 91,
   "metadata": {},
   "outputs": [
    {
     "name": "stdout",
     "output_type": "stream",
     "text": [
      "Cross validation scores:\n",
      " [0.73214286 0.82142857 0.76785714 0.76785714 0.79464286 0.76785714\n",
      " 0.83035714 0.82142857 0.73214286 0.71428571]\n"
     ]
    }
   ],
   "source": [
    "svm_c = svm.SVC(kernel='rbf', gamma=0.011, C = 65) \n",
    "print(\"Cross validation scores:\\n\",cross_val_score(svm_c, x_train_scaled, y_train, cv=10))\n",
    "\n",
    "svm_c.fit(x_train_scaled, y_train)\n",
    "pred_vals = svm_c.predict(x_test_scaled)\n",
    "\n",
    "pred_vals_df = pd.DataFrame(pred_vals)"
   ]
  },
  {
   "cell_type": "code",
   "execution_count": 92,
   "metadata": {},
   "outputs": [
    {
     "data": {
      "image/png": "[encoded data removed]",
      "text/plain": [
       "<Figure size 432x288 with 2 Axes>"
      ]
     },
     "metadata": {
      "needs_background": "light"
     },
     "output_type": "display_data"
    },
    {
     "name": "stdout",
     "output_type": "stream",
     "text": [
      "              precision    recall  f1-score   support\n",
      "\n",
      "           0       0.83      0.82      0.83       140\n",
      "           1       0.82      0.84      0.83       140\n",
      "\n",
      "    accuracy                           0.83       280\n",
      "   macro avg       0.83      0.83      0.83       280\n",
      "weighted avg       0.83      0.83      0.83       280\n",
      "\n"
     ]
    }
   ],
   "source": [
    "conf = confusion_matrix(y_test,pred_vals_df)\n",
    "label = [0,1]\n",
    "sns.heatmap(conf, annot=True, xticklabels=label, yticklabels=label,cmap='Blues', fmt='g')\n",
    "plt.show()\n",
    "\n",
    "print(classification_report(y_test,pred_vals_df, labels=label))"
   ]
  },
  {
   "cell_type": "code",
   "execution_count": 93,
   "metadata": {},
   "outputs": [
    {
     "name": "stdout",
     "output_type": "stream",
     "text": [
      "AUC score:  0.8285714285714286\n"
     ]
    },
    {
     "data": {
      "image/png": "[encoded data removed]",
      "text/plain": [
       "<Figure size 432x288 with 1 Axes>"
      ]
     },
     "metadata": {
      "needs_background": "light"
     },
     "output_type": "display_data"
    }
   ],
   "source": [
    "fpr, tpr, _ = metrics.roc_curve(y_test, pred_vals_df)\n",
    "auc = metrics.roc_auc_score(y_test, pred_vals_df)\n",
    "print(\"AUC score: \",auc)\n",
    "plt.plot(fpr,tpr, label=\"auc=\"+str(auc))\n",
    "plt.legend(loc=4)\n",
    "plt.show()"
   ]
  },
  {
   "cell_type": "markdown",
   "metadata": {},
   "source": [
    "#### Observation: Since it is more important to have fewer misclassifications for class 1, SVM has been used to address the same. The data may not be linearly separable. SVM handles that in a higher dimension. Though overall accuracy drops compared to Logistic Regression, but prediction for class 1 is better. "
   ]
  },
  {
   "cell_type": "markdown",
   "metadata": {},
   "source": [
    "### Ensemble Modelling using Random Forests"
   ]
  },
  {
   "cell_type": "code",
   "execution_count": 94,
   "metadata": {},
   "outputs": [
    {
     "name": "stdout",
     "output_type": "stream",
     "text": [
      "Cross validation scores:\n",
      " [0.80357143 0.79464286 0.83928571 0.75       0.78571429 0.73214286\n",
      " 0.84821429 0.83035714 0.75       0.79464286]\n"
     ]
    }
   ],
   "source": [
    "rf = RandomForestClassifier(n_estimators=77,max_depth=25, min_samples_split=4, min_samples_leaf=2) \n",
    "print(\"Cross validation scores:\\n\",cross_val_score(rf, x_train_scaled, y_train, cv=10))\n",
    "\n",
    "rf.fit(x_train_scaled, y_train)\n",
    "pred_vals = rf.predict(x_test_scaled)\n",
    "\n",
    "pred_vals_df = pd.DataFrame(pred_vals)"
   ]
  },
  {
   "cell_type": "code",
   "execution_count": 95,
   "metadata": {},
   "outputs": [
    {
     "data": {
      "image/png": "[encoded data removed]",
      "text/plain": [
       "<Figure size 432x288 with 2 Axes>"
      ]
     },
     "metadata": {
      "needs_background": "light"
     },
     "output_type": "display_data"
    },
    {
     "name": "stdout",
     "output_type": "stream",
     "text": [
      "              precision    recall  f1-score   support\n",
      "\n",
      "           0       0.83      0.84      0.84       140\n",
      "           1       0.84      0.83      0.83       140\n",
      "\n",
      "    accuracy                           0.84       280\n",
      "   macro avg       0.84      0.84      0.84       280\n",
      "weighted avg       0.84      0.84      0.84       280\n",
      "\n"
     ]
    }
   ],
   "source": [
    "conf = confusion_matrix(y_test,pred_vals_df)\n",
    "label = [0,1]\n",
    "sns.heatmap(conf, annot=True, xticklabels=label, yticklabels=label,cmap='Blues', fmt='g')\n",
    "plt.show()\n",
    "\n",
    "print(classification_report(y_test,pred_vals_df, labels=label))"
   ]
  },
  {
   "cell_type": "markdown",
   "metadata": {},
   "source": [
    "#### Observation: To improve the prediction of class 1 further, ensembled model is used. This model performs better than SVM, barring one extra misclassification than SVM."
   ]
  },
  {
   "cell_type": "code",
   "execution_count": 96,
   "metadata": {},
   "outputs": [
    {
     "name": "stdout",
     "output_type": "stream",
     "text": [
      "AUC score:  0.8357142857142857\n"
     ]
    },
    {
     "data": {
      "image/png": "[encoded data removed]",
      "text/plain": [
       "<Figure size 432x288 with 1 Axes>"
      ]
     },
     "metadata": {
      "needs_background": "light"
     },
     "output_type": "display_data"
    }
   ],
   "source": [
    "fpr, tpr, _ = metrics.roc_curve(y_test, pred_vals_df)\n",
    "auc = metrics.roc_auc_score(y_test, pred_vals_df)\n",
    "print(\"AUC score: \",auc)\n",
    "plt.plot(fpr,tpr,label=\"auc=\"+str(auc))\n",
    "plt.legend(loc=4)\n",
    "plt.show()"
   ]
  },
  {
   "cell_type": "markdown",
   "metadata": {},
   "source": [
    "## Random forest model acts as a tradeoff between Logistic Regression and SVM. Thus, Random forest model seems to be the best choice for this data. Note: Each model leaves a scope of improvement under parameter-tuning, accurate feature selection and more number of training samples. "
   ]
  },
  {
   "cell_type": "code",
   "execution_count": null,
   "metadata": {},
   "outputs": [],
   "source": []
  }
 ],
 "metadata": {
  "kernelspec": {
   "display_name": "Python 3",
   "language": "python",
   "name": "python3"
  },
  "language_info": {
   "codemirror_mode": {
    "name": "ipython",
    "version": 3
   },
   "file_extension": ".py",
   "mimetype": "text/x-python",
   "name": "python",
   "nbconvert_exporter": "python",
   "pygments_lexer": "ipython3",
   "version": "3.7.1"
  }
 },
 "nbformat": 4,
 "nbformat_minor": 2
}
