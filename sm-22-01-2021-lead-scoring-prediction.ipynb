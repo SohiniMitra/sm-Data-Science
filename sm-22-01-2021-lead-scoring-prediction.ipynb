{
 "cells": [
  {
   "cell_type": "markdown",
   "metadata": {},
   "source": [
    "### Import libraries"
   ]
  },
  {
   "cell_type": "code",
   "execution_count": 1,
   "metadata": {},
   "outputs": [],
   "source": [
    "import numpy as np\n",
    "import pandas as pd\n",
    "import seaborn as sns\n",
    "import matplotlib.pyplot as plt\n",
    "import warnings\n",
    "import random\n",
    "from sklearn import preprocessing\n",
    "from sklearn.feature_selection import mutual_info_classif\n",
    "from sklearn.model_selection import train_test_split\n",
    "from sklearn.model_selection import cross_val_score\n",
    "from sklearn.metrics import confusion_matrix\n",
    "from sklearn.metrics import classification_report\n",
    "from sklearn.linear_model import LogisticRegression\n",
    "from sklearn import svm\n",
    "from sklearn.ensemble import RandomForestClassifier\n",
    "from sklearn import metrics"
   ]
  },
  {
   "cell_type": "markdown",
   "metadata": {},
   "source": [
    "### Adjust settings"
   ]
  },
  {
   "cell_type": "code",
   "execution_count": 2,
   "metadata": {},
   "outputs": [],
   "source": [
    "warnings.filterwarnings(\"ignore\")\n",
    "pd.set_option('display.max_rows', 500)\n",
    "pd.set_option('display.max_columns', 500)\n",
    "pd.set_option('display.width', 500)\n",
    "pd.set_option('display.max_colwidth', -1)\n",
    "random.seed(10)"
   ]
  },
  {
   "cell_type": "markdown",
   "metadata": {},
   "source": [
    "#### Problem statement <br><br> Customers visit different websites -> Customers sign up for a course and are called leads -> Leads contacted by marketing team -> Some leads get converted to paying customers. <br><br> Aim is to identify if a lead will be converted to a paying customer."
   ]
  },
  {
   "cell_type": "markdown",
   "metadata": {},
   "source": [
    "### Function: Verify class imbalance"
   ]
  },
  {
   "cell_type": "code",
   "execution_count": 3,
   "metadata": {},
   "outputs": [
    {
     "ename": "SyntaxError",
     "evalue": "invalid syntax (<ipython-input-3-3f45dca2991c>, line 15)",
     "output_type": "error",
     "traceback": [
      "\u001b[0;36m  File \u001b[0;32m\"<ipython-input-3-3f45dca2991c>\"\u001b[0;36m, line \u001b[0;32m15\u001b[0m\n\u001b[0;31m    print(\"Class ratio (class_0/class_1):\\n\", round(class_0/class_1),3))\u001b[0m\n\u001b[0m                                                                       ^\u001b[0m\n\u001b[0;31mSyntaxError\u001b[0m\u001b[0;31m:\u001b[0m invalid syntax\n"
     ]
    }
   ],
   "source": [
    "def class_imbalance(df):\n",
    "    \n",
    "    print(\"Number of samples per class :\\n\")\n",
    "    print(df[\"Converted\"].value_counts())\n",
    "\n",
    "    plt.title(\"Number of samples per class\")\n",
    "    df[\"Converted\"].value_counts().plot.bar(color = \"orange\")\n",
    "    plt.xlabel(\"Class\")\n",
    "    plt.ylabel(\"Number of samples\")\n",
    "    plt.show()\n",
    "\n",
    "    class_0 = df[\"Converted\"].value_counts()[0]\n",
    "    class_1 = df[\"Converted\"].value_counts()[1]\n",
    "    sum = class_0 + class_1\n",
    "    print(\"Class ratio (class_0/class_1):\\n\", round(class_0/class_1, 3))"
   ]
  },
  {
   "cell_type": "markdown",
   "metadata": {},
   "source": [
    "### Function: Drop unwanted columns"
   ]
  },
  {
   "cell_type": "code",
   "execution_count": null,
   "metadata": {},
   "outputs": [],
   "source": [
    "def drop_cols(df, col_list):\n",
    "    \n",
    "    df.drop(col_list, axis=1, inplace = True)"
   ]
  },
  {
   "cell_type": "markdown",
   "metadata": {},
   "source": [
    "### Function: Handle missing values"
   ]
  },
  {
   "cell_type": "code",
   "execution_count": null,
   "metadata": {},
   "outputs": [],
   "source": [
    "def handle_missing_values(df, col, key_word):\n",
    "    \n",
    "    if key_word == \"mode\":\n",
    "        mode_value = df[col].mode()[0]\n",
    "        df[col].fillna(value = mode_value, inplace = True)\n",
    "    \n",
    "    elif key_word == \"median\":\n",
    "        median_value = df[col].median()\n",
    "        df[col].fillna(value = median_value, inplace = True)\n",
    "    \n",
    "    elif key_word == \"mean\":\n",
    "        mean_value = df[col].mean()\n",
    "        df[col].fillna(value = mean_value, inplace = True)\n",
    "    \n",
    "    else:\n",
    "        val = key_word        \n",
    "        df[col].fillna(value = val, inplace = True)"
   ]
  },
  {
   "cell_type": "markdown",
   "metadata": {},
   "source": [
    "### Function: Visualise impact of feature"
   ]
  },
  {
   "cell_type": "code",
   "execution_count": null,
   "metadata": {},
   "outputs": [],
   "source": [
    "def visualise_feature_impact(df, feature, f_type):\n",
    "    \n",
    "    if f_type == \"categorical\":\n",
    "        \n",
    "        val = df.groupby('Converted')[feature].value_counts()\n",
    "        \n",
    "        fig, axes = plt.subplots(nrows=1, ncols=2, figsize = (15,5))\n",
    "        col = [\"crimson\", \"green\"]\n",
    "        \n",
    "        for i in range(0,2):\n",
    "            val[i].plot(kind='bar',ax=axes[i],  color=col[i])\n",
    "            \n",
    "            axes[i].set_title(feature + \" - distribution for class \"+ str(i), fontsize=12)\n",
    "            axes[i].set_ylabel(\"Count / Percentage\", fontsize=12)\n",
    "            axes[i].set_xlabel(feature, fontsize=12)\n",
    "    \n",
    "            totals = []\n",
    "            for k in axes[i].patches:\n",
    "                totals.append(k.get_height())\n",
    "\n",
    "            total = sum(totals)\n",
    "            for j in axes[i].patches:\n",
    "                axes[i].text(j.get_x(), j.get_height(), \\\n",
    "                             str((j.get_height())) + \"  (\" + str(round((j.get_height()/total)*100, 2))+'%)', \\\n",
    "                             fontsize=11, color='black')\n",
    "        \n",
    "    elif f_type == \"numerical\":\n",
    "        \n",
    "        temp_df = pd.DataFrame(df[[feature,\"Converted\"]].copy())\n",
    "        temp_df = remove_outliers(temp_df, feature)\n",
    "        print(\"\\n\")\n",
    "        print(\"Original number of samples :\", df[feature].shape)\n",
    "        print(\"Number of samples after outliers are removed :\", temp_df[feature].shape)\n",
    "        \n",
    "        plt.figure(figsize = (12,5))\n",
    "        sns.histplot(data=temp_df, x=feature, kde=True, hue = \"Converted\")\n",
    "        plt.title(feature + \" - distribution at class lavel\")\n",
    "        plt.show()"
   ]
  },
  {
   "cell_type": "markdown",
   "metadata": {},
   "source": [
    "### Function: Remove outliers"
   ]
  },
  {
   "cell_type": "code",
   "execution_count": null,
   "metadata": {},
   "outputs": [],
   "source": [
    "def remove_outliers(df, col):\n",
    "    \n",
    "    perc_25 = np.percentile(df[col], 25)\n",
    "    perc_75 = np.percentile(df[col], 75)\n",
    "    iqr = perc_75 - perc_25\n",
    "    ll = perc_25 - 1.5*iqr\n",
    "    ul = perc_75 + 1.5*iqr\n",
    "    \n",
    "    print(\"\\n IQR {} \\n Lower limit {}\\n Upper limit {}\".format(iqr, ll, ul))\n",
    "    print(\"\\n Minimum {} \\n Maximum {} \\n\".format(min(df[col]), max(df[col])))\n",
    "    \n",
    "    if min(df[col]) < ll and max(df[col]) > ul:\n",
    "        print(\"There are samples which violate both upper limit and lower limit\")\n",
    "        idx1 = np.where(df[col] < ll)\n",
    "        idx2 = np.where(df[col] > ul)\n",
    "        idx = np.concatenate((idx1[0], idx2[0]), axis = None)\n",
    "        #print(idx)\n",
    "        print(\"Number of outliers \", len(idx))\n",
    "        df.drop(idx, axis = 0, inplace = True)\n",
    "        print(\"Outliers have been removed\")\n",
    "\n",
    "    elif min(df[col]) < ll and max(df[col]) <= ul:\n",
    "        print(\"There are samples which violate only lower limit\")\n",
    "        idx = np.where(df[col] < ll)\n",
    "        #print(idx[0])\n",
    "        print(\"Number of outliers \", len(idx[0]))\n",
    "        df.drop(idx[0], axis = 0, inplace = True)\n",
    "        print(\"Outliers have been removed\")\n",
    "    \n",
    "    elif min(df[col]) >= ll and max(df[col]) > ul:\n",
    "        print(\"There are samples which violate only upper limit\")\n",
    "        idx = np.where(df[col] > ul)\n",
    "        #print(idx[0])\n",
    "        print(\"Number of outliers \", len(idx[0]))\n",
    "        df.drop(idx[0], axis = 0, inplace = True)\n",
    "        print(\"Outliers have been removed\")\n",
    "        \n",
    "    else:\n",
    "        print(\"No outliers in this data\")\n",
    "        \n",
    "    df = df.reset_index()\n",
    "    df.drop(columns=[\"index\"], axis=1, inplace = True)\n",
    "    \n",
    "    return df"
   ]
  },
  {
   "cell_type": "markdown",
   "metadata": {},
   "source": [
    "### Function: Encode categorical variable"
   ]
  },
  {
   "cell_type": "code",
   "execution_count": null,
   "metadata": {},
   "outputs": [],
   "source": [
    "def categorical_encode(df, col, key_word):\n",
    "    \n",
    "    if key_word == 'l_encode':\n",
    "        le = preprocessing.LabelEncoder() \n",
    "        l_encodes = pd.DataFrame(le.fit_transform(df[col]).astype(str))\n",
    "        l_encodes.columns = [col + \"_encoded\"]\n",
    "        df = pd.concat([df, l_encodes], axis = 1)\n",
    "        df.drop([col], axis = 1, inplace = True)\n",
    "    \n",
    "    elif key_word == 'o_encode':\n",
    "        o_encodes = pd.get_dummies(df[col], drop_first= True).astype(int)\n",
    "        df = pd.concat([df, o_encodes], axis = 1)\n",
    "        df.drop([col], axis = 1, inplace = True)\n",
    "    \n",
    "    else:\n",
    "        print(\"Please specify correct key-word\")\n",
    "        \n",
    "    return df "
   ]
  },
  {
   "cell_type": "markdown",
   "metadata": {},
   "source": [
    "### Define path and load data"
   ]
  },
  {
   "cell_type": "code",
   "execution_count": null,
   "metadata": {},
   "outputs": [],
   "source": [
    "path = \"/Users/sohinimitra/Documents/Kaggle/datasets/kaggle-lead-scoring-datasets/\""
   ]
  },
  {
   "cell_type": "code",
   "execution_count": null,
   "metadata": {},
   "outputs": [],
   "source": [
    "data = pd.read_csv(path + \"Leads.csv\")\n",
    "data.sample(3)"
   ]
  },
  {
   "cell_type": "markdown",
   "metadata": {},
   "source": [
    "### Data description"
   ]
  },
  {
   "cell_type": "code",
   "execution_count": null,
   "metadata": {},
   "outputs": [],
   "source": [
    "data_descripton = pd.read_excel(path + \"Leads Data Dictionary.xlsx\")\n",
    "data_descripton"
   ]
  },
  {
   "cell_type": "markdown",
   "metadata": {},
   "source": [
    "#### Note: From the data description it can be observed that the target variable is the column \"Converted\". Different features have been captured to understand the behavior of a lead getting converted to a paying customer. "
   ]
  },
  {
   "cell_type": "markdown",
   "metadata": {},
   "source": [
    "### Data overview"
   ]
  },
  {
   "cell_type": "code",
   "execution_count": null,
   "metadata": {},
   "outputs": [],
   "source": [
    "print(\"Shape of dataset :\", data.shape)\n",
    "print(\"\\n\")\n",
    "print(data.info())"
   ]
  },
  {
   "cell_type": "markdown",
   "metadata": {},
   "source": [
    "#### Note: There are 9240 samples in this dataset. Most of the features are categorical in nature. There are several NULL values across different features in the dataset. "
   ]
  },
  {
   "cell_type": "markdown",
   "metadata": {},
   "source": [
    "### Check for class imbalance"
   ]
  },
  {
   "cell_type": "code",
   "execution_count": null,
   "metadata": {},
   "outputs": [],
   "source": [
    "class_imbalance(data)"
   ]
  },
  {
   "cell_type": "markdown",
   "metadata": {},
   "source": [
    "#### Note: Overall there is sufficent number of samples in both classes to learn from. The class ratio is less than 2. Class imbalance does not exist in the overall data."
   ]
  },
  {
   "cell_type": "markdown",
   "metadata": {},
   "source": [
    "### Identify irrelevant features"
   ]
  },
  {
   "cell_type": "code",
   "execution_count": null,
   "metadata": {},
   "outputs": [],
   "source": [
    "data.nunique()"
   ]
  },
  {
   "cell_type": "markdown",
   "metadata": {},
   "source": [
    "#### Note: <br> 1. Prospect ID and Lead Number are identifiers for each customer, hence can be avoided for training. <br> 2.  Activity/Profile Index/Score are redundant information, either Index or Score can be avoided for training. (Drop Score since Index privides infromation at a group level as Low-Medium-High) <br> 3. Last Activity and Last Notable Activity features are redundant, one of them can be avoided for training. (Drop Notable Activity)"
   ]
  },
  {
   "cell_type": "code",
   "execution_count": null,
   "metadata": {},
   "outputs": [],
   "source": [
    "col_list = [\"Prospect ID\",\"Lead Number\",\"Asymmetrique Activity Score\",\"Asymmetrique Profile Score\",\"Last Activity\"]\n",
    "drop_cols(data, col_list)\n",
    "print(\"Shape of dataset :\",data.shape)\n",
    "data.sample(3)"
   ]
  },
  {
   "cell_type": "markdown",
   "metadata": {},
   "source": [
    "### Identify number of NaNs for each feature"
   ]
  },
  {
   "cell_type": "code",
   "execution_count": null,
   "metadata": {},
   "outputs": [],
   "source": [
    "data.isna().sum()"
   ]
  },
  {
   "cell_type": "markdown",
   "metadata": {},
   "source": [
    "#### Note: <br> 1. Lead Quality has high number of NULL values. This feature will be dropped. <br> 2. Activity and Profile indexes will be retained despite high number of NULLs since they indicate behavior of a customer. <br> 3. Number of NULLs for Lead Source, TotalVisits and Page Views Per Visit is low, NULLs will be handled by using \"Mode\"/\"Median\"/\"Mean\"."
   ]
  },
  {
   "cell_type": "code",
   "execution_count": null,
   "metadata": {},
   "outputs": [],
   "source": [
    "col_list = [\"Lead Quality\"]\n",
    "drop_cols(data, col_list)"
   ]
  },
  {
   "cell_type": "code",
   "execution_count": null,
   "metadata": {},
   "outputs": [],
   "source": [
    "handle_missing_values(data, \"Lead Source\", \"mode\")\n",
    "handle_missing_values(data, \"TotalVisits\", \"mean\")\n",
    "handle_missing_values(data, \"Page Views Per Visit\", \"mean\")\n",
    "data.sample(3)"
   ]
  },
  {
   "cell_type": "markdown",
   "metadata": {},
   "source": [
    "###  Identify impact of features on target variable"
   ]
  },
  {
   "cell_type": "code",
   "execution_count": null,
   "metadata": {},
   "outputs": [],
   "source": [
    "visualise_feature_impact(data, \"Lead Origin\", \"categorical\")\n",
    "data[\"Lead Origin\"].value_counts()"
   ]
  },
  {
   "cell_type": "markdown",
   "metadata": {},
   "source": [
    "#### Note: <br> 1. If a lead arrives via \"Lead Add Form\", possibility of coversion is higher. This feature impacts the target variable. <br> 2. There is only one sample for \"Quick Add Form\". This sample may be ignored. "
   ]
  },
  {
   "cell_type": "code",
   "execution_count": null,
   "metadata": {},
   "outputs": [],
   "source": [
    "visualise_feature_impact(data, \"Lead Source\", \"categorical\")\n",
    "data[\"Lead Source\"].value_counts()"
   ]
  },
  {
   "cell_type": "markdown",
   "metadata": {},
   "source": [
    "#### Note: <br> 1. \"Google\"-\"google\" represent the same source, this can be combined. <br> 2. Several sources have very few sample, such samples can be combined into a single category. "
   ]
  },
  {
   "cell_type": "code",
   "execution_count": null,
   "metadata": {},
   "outputs": [],
   "source": [
    "visualise_feature_impact(data, \"Do Not Email\", \"categorical\")\n",
    "data[\"Do Not Email\"].value_counts()"
   ]
  },
  {
   "cell_type": "markdown",
   "metadata": {},
   "source": [
    "#### Note: Most of the values in this feature is \"No\". This may not have an impact on the target variable. "
   ]
  },
  {
   "cell_type": "code",
   "execution_count": null,
   "metadata": {},
   "outputs": [],
   "source": [
    "visualise_feature_impact(data, \"Do Not Call\", \"categorical\")\n",
    "data[\"Do Not Call\"].value_counts()"
   ]
  },
  {
   "cell_type": "markdown",
   "metadata": {},
   "source": [
    "#### Note: Most of the values in this feature is \"No\". This will not have an impact on the target variable. "
   ]
  },
  {
   "cell_type": "code",
   "execution_count": null,
   "metadata": {},
   "outputs": [],
   "source": [
    "visualise_feature_impact(data, \"TotalVisits\", \"numerical\")"
   ]
  },
  {
   "cell_type": "markdown",
   "metadata": {},
   "source": [
    "#### Note: As the number of total visits increase, the chance of conversion increases. "
   ]
  },
  {
   "cell_type": "code",
   "execution_count": null,
   "metadata": {},
   "outputs": [],
   "source": [
    "visualise_feature_impact(data, \"Total Time Spent on Website\", \"numerical\")"
   ]
  },
  {
   "cell_type": "markdown",
   "metadata": {},
   "source": [
    "#### Note: As the time spent on the website increases, the chnace of conversion to a paying customer increases. "
   ]
  },
  {
   "cell_type": "code",
   "execution_count": null,
   "metadata": {},
   "outputs": [],
   "source": [
    "visualise_feature_impact(data, \"Page Views Per Visit\", \"numerical\")"
   ]
  },
  {
   "cell_type": "markdown",
   "metadata": {},
   "source": [
    "#### Note: As the number of page views increases, the possibility of conversion is higher. "
   ]
  },
  {
   "cell_type": "code",
   "execution_count": null,
   "metadata": {},
   "outputs": [],
   "source": [
    "visualise_feature_impact(data, \"Country\", \"categorical\")\n",
    "data[\"Country\"].value_counts()"
   ]
  },
  {
   "cell_type": "markdown",
   "metadata": {},
   "source": [
    "#### Note: Most of the values in this feature is \"Inda\". This will not have an impact on the target variable. "
   ]
  },
  {
   "cell_type": "code",
   "execution_count": null,
   "metadata": {},
   "outputs": [],
   "source": [
    "visualise_feature_impact(data, \"Specialization\", \"categorical\")\n",
    "data[\"Specialization\"].value_counts()"
   ]
  },
  {
   "cell_type": "markdown",
   "metadata": {},
   "source": [
    "#### Note: <br> 1. Many featuers fall under \"Select\", i.e. value not specified by user. <br> 2. This may have an impact on the target variable."
   ]
  },
  {
   "cell_type": "code",
   "execution_count": null,
   "metadata": {},
   "outputs": [],
   "source": [
    "visualise_feature_impact(data, \"How did you hear about X Education\", \"categorical\")\n",
    "data[\"How did you hear about X Education\"].value_counts()"
   ]
  },
  {
   "cell_type": "markdown",
   "metadata": {},
   "source": [
    "#### Note: <br> 1. Many featuers fall under \"Select\", i.e. value not specified by user. <br> 2. This may have an impact on the target variable."
   ]
  },
  {
   "cell_type": "code",
   "execution_count": null,
   "metadata": {},
   "outputs": [],
   "source": [
    "visualise_feature_impact(data, \"What is your current occupation\", \"categorical\")\n",
    "data[\"What is your current occupation\"].value_counts()"
   ]
  },
  {
   "cell_type": "markdown",
   "metadata": {},
   "source": [
    "#### Note: A working professional is most likely to get converted to a paying customer. This feature will impact the output. "
   ]
  },
  {
   "cell_type": "code",
   "execution_count": null,
   "metadata": {},
   "outputs": [],
   "source": [
    "visualise_feature_impact(data, \"What matters most to you in choosing a course\", \"categorical\")\n",
    "data[\"What matters most to you in choosing a course\"].value_counts()"
   ]
  },
  {
   "cell_type": "markdown",
   "metadata": {},
   "source": [
    "#### Note: 99% of the values are \"Better career prospects\". This feature will not be useful for learning. "
   ]
  },
  {
   "cell_type": "code",
   "execution_count": null,
   "metadata": {},
   "outputs": [],
   "source": [
    "visualise_feature_impact(data, \"Search\", \"categorical\")\n",
    "data[\"Search\"].value_counts()"
   ]
  },
  {
   "cell_type": "markdown",
   "metadata": {},
   "source": [
    "#### Note: Variety of information in this column is very less. This will not impact the target variable. "
   ]
  },
  {
   "cell_type": "code",
   "execution_count": null,
   "metadata": {},
   "outputs": [],
   "source": [
    "visualise_feature_impact(data, \"Magazine\", \"categorical\")\n",
    "data[\"Magazine\"].value_counts()"
   ]
  },
  {
   "cell_type": "markdown",
   "metadata": {},
   "source": [
    "#### This feature can be ignored since there is only one type of value. "
   ]
  },
  {
   "cell_type": "code",
   "execution_count": null,
   "metadata": {},
   "outputs": [],
   "source": [
    "visualise_feature_impact(data, \"Newspaper Article\", \"categorical\")\n",
    "data[\"Newspaper Article\"].value_counts()"
   ]
  },
  {
   "cell_type": "markdown",
   "metadata": {},
   "source": [
    "#### Note: This feature will not impact the output variable since 99% of the values is same."
   ]
  },
  {
   "cell_type": "code",
   "execution_count": null,
   "metadata": {},
   "outputs": [],
   "source": [
    "visualise_feature_impact(data, \"X Education Forums\", \"categorical\")\n",
    "data[\"X Education Forums\"].value_counts()"
   ]
  },
  {
   "cell_type": "markdown",
   "metadata": {},
   "source": [
    "#### Note: This feature will not impact the output variable since more than 99% of the values is same."
   ]
  },
  {
   "cell_type": "code",
   "execution_count": null,
   "metadata": {},
   "outputs": [],
   "source": [
    "visualise_feature_impact(data, \"Newspaper\", \"categorical\")\n",
    "data[\"Newspaper\"].value_counts()"
   ]
  },
  {
   "cell_type": "markdown",
   "metadata": {},
   "source": [
    "#### Note: This feature will not impact the output variable since more than 99% of the values is same."
   ]
  },
  {
   "cell_type": "code",
   "execution_count": null,
   "metadata": {},
   "outputs": [],
   "source": [
    "visualise_feature_impact(data, \"Digital Advertisement\", \"categorical\")\n",
    "data[\"Digital Advertisement\"].value_counts()"
   ]
  },
  {
   "cell_type": "markdown",
   "metadata": {},
   "source": [
    "#### Note: This feature will not impact the output variable since 99% of the values is same."
   ]
  },
  {
   "cell_type": "code",
   "execution_count": null,
   "metadata": {},
   "outputs": [],
   "source": [
    "visualise_feature_impact(data, \"Through Recommendations\", \"categorical\")\n",
    "data[\"Through Recommendations\"].value_counts()"
   ]
  },
  {
   "cell_type": "markdown",
   "metadata": {},
   "source": [
    "#### Note: This feature will not impact the output variable since 99% of the values is same."
   ]
  },
  {
   "cell_type": "code",
   "execution_count": null,
   "metadata": {},
   "outputs": [],
   "source": [
    "visualise_feature_impact(data, \"Receive More Updates About Our Courses\", \"categorical\")\n",
    "data[\"Receive More Updates About Our Courses\"].value_counts()"
   ]
  },
  {
   "cell_type": "markdown",
   "metadata": {},
   "source": [
    "#### Note: This feature will not impact the output variable since all the values is same."
   ]
  },
  {
   "cell_type": "code",
   "execution_count": null,
   "metadata": {},
   "outputs": [],
   "source": [
    "visualise_feature_impact(data, \"Tags\", \"categorical\")\n",
    "data[\"Tags\"].value_counts()"
   ]
  },
  {
   "cell_type": "markdown",
   "metadata": {},
   "source": [
    "#### Note: <br> 1. This feature has imapct on target variable based on it's values. <br> 2. Number of samples for certain features are less, which can be combined into a separate category. "
   ]
  },
  {
   "cell_type": "code",
   "execution_count": null,
   "metadata": {},
   "outputs": [],
   "source": [
    "visualise_feature_impact(data, \"Update me on Supply Chain Content\", \"categorical\")\n",
    "data[\"Update me on Supply Chain Content\"].value_counts()"
   ]
  },
  {
   "cell_type": "markdown",
   "metadata": {},
   "source": [
    "#### Note: This feature will not impact the output variable since all the values is same."
   ]
  },
  {
   "cell_type": "code",
   "execution_count": null,
   "metadata": {},
   "outputs": [],
   "source": [
    "visualise_feature_impact(data, \"Get updates on DM Content\", \"categorical\")\n",
    "data[\"Get updates on DM Content\"].value_counts()"
   ]
  },
  {
   "cell_type": "markdown",
   "metadata": {},
   "source": [
    "#### Note: This feature will not impact the output variable since all the values is same."
   ]
  },
  {
   "cell_type": "code",
   "execution_count": null,
   "metadata": {},
   "outputs": [],
   "source": [
    "visualise_feature_impact(data, \"Lead Profile\", \"categorical\")\n",
    "data[\"Lead Profile\"].value_counts()"
   ]
  },
  {
   "cell_type": "markdown",
   "metadata": {},
   "source": [
    "#### Note: Several values are unkown and placed in \"Select\". This may have an impact on the target variable. "
   ]
  },
  {
   "cell_type": "code",
   "execution_count": null,
   "metadata": {},
   "outputs": [],
   "source": [
    "visualise_feature_impact(data, \"City\", \"categorical\")\n",
    "data[\"City\"].value_counts()"
   ]
  },
  {
   "cell_type": "markdown",
   "metadata": {},
   "source": [
    "#### Note: This may have an impact on the output."
   ]
  },
  {
   "cell_type": "code",
   "execution_count": null,
   "metadata": {},
   "outputs": [],
   "source": [
    "visualise_feature_impact(data, \"Asymmetrique Activity Index\", \"categorical\")\n",
    "data[\"Asymmetrique Activity Index\"].value_counts()"
   ]
  },
  {
   "cell_type": "markdown",
   "metadata": {},
   "source": [
    "#### Note: This may have an impact on the target variable. "
   ]
  },
  {
   "cell_type": "code",
   "execution_count": null,
   "metadata": {},
   "outputs": [],
   "source": [
    "visualise_feature_impact(data, \"Asymmetrique Profile Index\", \"categorical\")\n",
    "data[\"Asymmetrique Profile Index\"].value_counts()"
   ]
  },
  {
   "cell_type": "markdown",
   "metadata": {},
   "source": [
    "#### Note: A high profile index is likely to convert to a paying customer. "
   ]
  },
  {
   "cell_type": "code",
   "execution_count": null,
   "metadata": {},
   "outputs": [],
   "source": [
    "visualise_feature_impact(data, \"I agree to pay the amount through cheque\", \"categorical\")\n",
    "data[\"I agree to pay the amount through cheque\"].value_counts()"
   ]
  },
  {
   "cell_type": "markdown",
   "metadata": {},
   "source": [
    "#### Note: This feature will not impact the output variable since all the values is same."
   ]
  },
  {
   "cell_type": "code",
   "execution_count": null,
   "metadata": {},
   "outputs": [],
   "source": [
    "visualise_feature_impact(data, \"A free copy of Mastering The Interview\", \"categorical\")\n",
    "data[\"A free copy of Mastering The Interview\"].value_counts()"
   ]
  },
  {
   "cell_type": "markdown",
   "metadata": {},
   "source": [
    "#### Note: This may have an impact on the target variable. "
   ]
  },
  {
   "cell_type": "code",
   "execution_count": null,
   "metadata": {},
   "outputs": [],
   "source": [
    "visualise_feature_impact(data, \"Last Notable Activity\", \"categorical\")\n",
    "data[\"Last Notable Activity\"].value_counts()"
   ]
  },
  {
   "cell_type": "markdown",
   "metadata": {},
   "source": [
    "#### Note: This feature has an imapct on the target variable. Certain categories have fewer features which can be combined to a separate group like \"Others\". "
   ]
  },
  {
   "cell_type": "markdown",
   "metadata": {},
   "source": [
    "### Dropping irrelevant features"
   ]
  },
  {
   "cell_type": "code",
   "execution_count": null,
   "metadata": {},
   "outputs": [],
   "source": [
    "col_list = [\"Do Not Call\",  \"Country\", \"What matters most to you in choosing a course\", \"Search\", \"Magazine\", \"Newspaper Article\", \"X Education Forums\", \"Newspaper\", \"Digital Advertisement\", \"Through Recommendations\", \"Receive More Updates About Our Courses\", \"Update me on Supply Chain Content\", \"Get updates on DM Content\", \"I agree to pay the amount through cheque\"]\n",
    "drop_cols(data, col_list)\n",
    "print(\"Shape of dataset :\",data.shape)\n",
    "data.sample(3)"
   ]
  },
  {
   "cell_type": "markdown",
   "metadata": {},
   "source": [
    "#### Note: <br> 1. Specialization, How did you hear about X Education, City NULLs can be replaced by \"Select\", depicting the same information that value is not known, or these columns may be dropped. <br> 2. What is your current occupation, Tags NULLs can be addressed by categorising as a separate group. <br> 3. Lead Profile feature has 4k+ \"Select\" values, i.e. unknown and further ~3k NULLs. This feature can be ignored. <br> 4. Activity/Profile index NULLs can be addressed by categorising them as \"Unknown\"."
   ]
  },
  {
   "cell_type": "code",
   "execution_count": null,
   "metadata": {},
   "outputs": [],
   "source": [
    "col_list = [\"Lead Profile\"]\n",
    "drop_cols(data, col_list)\n",
    "print(\"Shape of dataset :\",data.shape)"
   ]
  },
  {
   "cell_type": "code",
   "execution_count": null,
   "metadata": {},
   "outputs": [],
   "source": [
    "handle_missing_values(data, \"Specialization\", \"mode\")\n",
    "handle_missing_values(data, \"How did you hear about X Education\", \"mode\")\n",
    "handle_missing_values(data, \"City\", \"Select\")\n",
    "handle_missing_values(data, \"What is your current occupation\", \"Unknown_Occupation\")\n",
    "handle_missing_values(data, \"Tags\", \"Unknown_Tag\")\n",
    "handle_missing_values(data, \"Asymmetrique Activity Index\", \"Unknown_Activity\")\n",
    "handle_missing_values(data, \"Asymmetrique Profile Index\", \"Unknown_Profile\")"
   ]
  },
  {
   "cell_type": "code",
   "execution_count": null,
   "metadata": {},
   "outputs": [],
   "source": [
    "data.sample(5)"
   ]
  },
  {
   "cell_type": "markdown",
   "metadata": {},
   "source": [
    "### Cleaning features"
   ]
  },
  {
   "cell_type": "code",
   "execution_count": null,
   "metadata": {},
   "outputs": [],
   "source": [
    "data = data[data[\"Lead Origin\"] != \"Quick Add Form\"]\n",
    "\n",
    "data[\"Lead Origin\"].value_counts()"
   ]
  },
  {
   "cell_type": "code",
   "execution_count": null,
   "metadata": {},
   "outputs": [],
   "source": [
    "data[\"Lead Source\"] = data[\"Lead Source\"].str.lower()\n",
    "val_list = [\"bing\",\"click2call\", \"social media\", \"live chat\", \"press_release\", \"pay per click ads\", \"welearnblog_home\", \"blog\", \"youtubechannel\", \"welearn\", \"testone\", \"nc_edm\"]\n",
    "data[\"Lead Source\"] = data[\"Lead Source\"].apply(lambda x: 'other_source' if x in val_list else x) \n",
    "\n",
    "#data[\"Lead Source\"].value_counts()"
   ]
  },
  {
   "cell_type": "code",
   "execution_count": null,
   "metadata": {},
   "outputs": [],
   "source": [
    "val_list = [\"in touch with EINS\", \"Lost to Others\", \"Want to take admission but has financial problems\", \"Still Thinking\", \"Interested in Next batch\", \"In confusion whether part time or DLP\", \"Lateral student\", \"Shall take in the next coming month\", \"University not recognized\", \"Recognition issue (DEC approval)\"]\n",
    "data[\"Tags\"] = data[\"Tags\"].apply(lambda x: 'other_tags' if x in val_list else x) \n",
    "\n",
    "#data[\"Tags\"].value_counts()"
   ]
  },
  {
   "cell_type": "code",
   "execution_count": null,
   "metadata": {},
   "outputs": [],
   "source": [
    "val_list = [\"Had a Phone Conversation\", \"Email Marked Spam\", \"Resubscribed to emails\", \"View in browser link Clicked\",\"Email Received\", \"Form Submitted on Website\", \"Approached upfront\"]\n",
    "data[\"Last Notable Activity\"] = data[\"Last Notable Activity\"].apply(lambda x: 'other_last_activity' if x in val_list else x) \n",
    "\n",
    "#data[\"Last Notable Activity\"].value_counts()"
   ]
  },
  {
   "cell_type": "code",
   "execution_count": null,
   "metadata": {},
   "outputs": [],
   "source": [
    "data[\"Asymmetrique Activity Index\"] = data[\"Asymmetrique Activity Index\"].str.replace(\".\",\"_\" )\n",
    "data[\"Asymmetrique Profile Index\"] = data[\"Asymmetrique Profile Index\"].str.replace(\".\",\"_\" )"
   ]
  },
  {
   "cell_type": "code",
   "execution_count": null,
   "metadata": {},
   "outputs": [],
   "source": [
    "data[\"Asymmetrique Activity Index\"].value_counts()"
   ]
  },
  {
   "cell_type": "markdown",
   "metadata": {},
   "source": [
    "### Handling categorical features"
   ]
  },
  {
   "cell_type": "code",
   "execution_count": null,
   "metadata": {},
   "outputs": [],
   "source": [
    "data_dummy = data.copy()\n",
    "data_dummy = categorical_encode(data_dummy, \"Lead Origin\", \"o_encode\")\n",
    "data_dummy = categorical_encode(data_dummy, \"Lead Source\", \"o_encode\")\n",
    "data_dummy = categorical_encode(data_dummy, \"Specialization\", \"o_encode\")\n",
    "data_dummy = categorical_encode(data_dummy, \"How did you hear about X Education\", \"o_encode\")\n",
    "data_dummy = categorical_encode(data_dummy, \"What is your current occupation\", \"o_encode\")\n",
    "data_dummy = categorical_encode(data_dummy, \"Tags\", \"o_encode\")\n",
    "data_dummy = categorical_encode(data_dummy, \"City\", \"o_encode\")\n",
    "data_dummy = categorical_encode(data_dummy, \"Last Notable Activity\", \"o_encode\")\n",
    "\n",
    "#data = categorical_encode(data, \"Do Not Email\", \"l_encode\")\n",
    "#data = categorical_encode(data, \"A free copy of Mastering The Interview\", \"l_encode\")\n",
    "data_dummy[\"Do Not Email\"] = data_dummy[\"Do Not Email\"].replace(['No','Yes'],[0,1])\n",
    "data_dummy[\"A free copy of Mastering The Interview\"] = data_dummy[\"A free copy of Mastering The Interview\"].replace(['No','Yes'],[0,1])\n",
    "data_dummy[\"Asymmetrique Activity Index\"] = data_dummy[\"Asymmetrique Activity Index\"].replace(['Unknown_Activity','03_Low', '02_Medium', '01_High'],[0,1,2,3])\n",
    "data_dummy[\"Asymmetrique Profile Index\"] = data_dummy[\"Asymmetrique Profile Index\"].replace(['Unknown_Profile','03_Low', '02_Medium', '01_High'],[0,1,2,3])\n",
    "\n",
    "print(\"Shape of dataset :\",data_dummy.shape)\n",
    "data_dummy.sample(5)"
   ]
  },
  {
   "cell_type": "code",
   "execution_count": null,
   "metadata": {},
   "outputs": [],
   "source": [
    "data.sample(5)"
   ]
  },
  {
   "cell_type": "markdown",
   "metadata": {},
   "source": [
    "### Feature selection using Mutual Information "
   ]
  },
  {
   "cell_type": "code",
   "execution_count": null,
   "metadata": {},
   "outputs": [],
   "source": [
    "features = data_dummy.drop([\"Converted\"], axis = 1)\n",
    "target = data_dummy[\"Converted\"]\n",
    "\n",
    "MI = mutual_info_classif(np.array(features), np.array(target), discrete_features=True)\n",
    "MI_data = pd.concat([pd.DataFrame(features.columns),pd.DataFrame(MI)], axis = 1)\n",
    "MI_data.columns = [\"Features\", \"Mutual Information\"]\n",
    "MI_data.sort_values(by = \"Mutual Information\", ascending = False)"
   ]
  },
  {
   "cell_type": "markdown",
   "metadata": {},
   "source": [
    "#### Note: From MI scores, the following features will be considered for modeling: <br> 1. Total Time Spent on Website <br> 2. Tags <br> 3. Last Notable Activity <br> 4. What is your current occupation <br> 5. Lead Origin <br> 6. Page Views per visit <br> 7. Total visits <br> 8. Lead Source <br> 9. Asymmetrique Activity Index <br> 10. Do Not Email <br> 11. Asymmetrique Profile Index "
   ]
  },
  {
   "cell_type": "code",
   "execution_count": null,
   "metadata": {},
   "outputs": [],
   "source": [
    "data_f = data[[\"Lead Origin\", \"Lead Source\", \"What is your current occupation\", \"Tags\", \"Last Notable Activity\", \"Do Not Email\", \"Asymmetrique Activity Index\", \"Asymmetrique Profile Index\", \"Total Time Spent on Website\", \"Page Views Per Visit\", \"TotalVisits\", \"Converted\"]]\n"
   ]
  },
  {
   "cell_type": "code",
   "execution_count": null,
   "metadata": {},
   "outputs": [],
   "source": [
    "data_f = categorical_encode(data_f, \"Lead Origin\", \"o_encode\")\n",
    "data_f = categorical_encode(data_f, \"Lead Source\", \"o_encode\")\n",
    "data_f = categorical_encode(data_f, \"What is your current occupation\", \"o_encode\")\n",
    "data_f = categorical_encode(data_f, \"Tags\", \"o_encode\")\n",
    "data_f = categorical_encode(data_f, \"Last Notable Activity\", \"o_encode\")\n",
    "\n",
    "#data = categorical_encode(data, \"Do Not Email\", \"l_encode\")\n",
    "#data = categorical_encode(data, \"A free copy of Mastering The Interview\", \"l_encode\")\n",
    "data_f[\"Do Not Email\"] = data_f[\"Do Not Email\"].replace(['No','Yes'],[0,1])\n",
    "data_f[\"Asymmetrique Activity Index\"] = data_f[\"Asymmetrique Activity Index\"].replace(['Unknown_Activity','03_Low', '02_Medium', '01_High'],[0,1,2,3])\n",
    "data_f[\"Asymmetrique Profile Index\"] = data_f[\"Asymmetrique Profile Index\"].replace(['Unknown_Profile','03_Low', '02_Medium', '01_High'],[0,1,2,3])\n",
    "\n",
    "print(\"Shape of dataset :\",data_f.shape)\n",
    "data_f.sample(5)"
   ]
  },
  {
   "cell_type": "markdown",
   "metadata": {},
   "source": [
    "### Train-test datasets"
   ]
  },
  {
   "cell_type": "code",
   "execution_count": null,
   "metadata": {},
   "outputs": [],
   "source": [
    "X = data_f.drop([\"Converted\"], axis = 1)\n",
    "Y = data_f[\"Converted\"]\n",
    "\n",
    "x_train, x_test, y_train, y_test = train_test_split(X, Y, test_size=0.2, random_state=999)\n",
    "\n",
    "train_mean = x_train.mean()\n",
    "train_std = x_train.std()\n",
    "x_train_scaled = (x_train - train_mean)/train_std\n",
    "x_test_scaled = (x_test - train_mean)/train_std"
   ]
  },
  {
   "cell_type": "markdown",
   "metadata": {},
   "source": [
    "### Modeling"
   ]
  },
  {
   "cell_type": "code",
   "execution_count": null,
   "metadata": {},
   "outputs": [],
   "source": [
    "lr = LogisticRegression()\n",
    "print(\"Cross validation scores:\\n\",cross_val_score(lr, x_train_scaled, y_train, cv=10))\n",
    "\n",
    "lr.fit(x_train_scaled, y_train)\n",
    "pred_vals = lr.predict(x_test_scaled)\n",
    "\n",
    "pred_vals_df = pd.DataFrame(pred_vals)"
   ]
  },
  {
   "cell_type": "markdown",
   "metadata": {},
   "source": [
    "### Model performance evaluation"
   ]
  },
  {
   "cell_type": "code",
   "execution_count": null,
   "metadata": {},
   "outputs": [],
   "source": [
    "conf = confusion_matrix(y_train,pd.DataFrame(lr.predict(x_train_scaled)))\n",
    "label = [0,1]\n",
    "plt.figure(figsize=(7,5))\n",
    "sns.heatmap(conf, annot=True, xticklabels=label, yticklabels=label,cmap='Blues', fmt='g')\n",
    "plt.title(\"Confusion matrix for train data\")\n",
    "plt.xlabel(\"Predicted labels\")\n",
    "plt.ylabel(\"Actual labels\")\n",
    "plt.show()"
   ]
  },
  {
   "cell_type": "code",
   "execution_count": null,
   "metadata": {},
   "outputs": [],
   "source": [
    "print(\"Classification report for train data: \\n\")\n",
    "print(classification_report(y_train,pd.DataFrame(lr.predict(x_train_scaled)), labels=label))"
   ]
  },
  {
   "cell_type": "code",
   "execution_count": null,
   "metadata": {},
   "outputs": [],
   "source": [
    "conf = confusion_matrix(y_test,pred_vals_df)\n",
    "label = [0,1]\n",
    "plt.figure(figsize=(7,5))\n",
    "sns.heatmap(conf, annot=True, xticklabels=label, yticklabels=label,cmap='Blues', fmt='g')\n",
    "plt.title(\"Confusion matrix for test data\")\n",
    "plt.xlabel(\"Predicted labels\")\n",
    "plt.ylabel(\"Actual labels\")\n",
    "plt.show()"
   ]
  },
  {
   "cell_type": "code",
   "execution_count": null,
   "metadata": {},
   "outputs": [],
   "source": [
    "print(\"Classification report for test data: \\n\")\n",
    "print(classification_report(y_test,pred_vals_df, labels=label))"
   ]
  },
  {
   "cell_type": "code",
   "execution_count": null,
   "metadata": {},
   "outputs": [],
   "source": [
    "print(\"Overall model accuracy for train data : \", round(metrics.accuracy_score(y_train,pd.DataFrame(lr.predict(x_train_scaled))),3))\n",
    "print(\"Overall model accuracy for test data : \", round(metrics.accuracy_score(y_test,pred_vals_df),3))"
   ]
  },
  {
   "cell_type": "code",
   "execution_count": null,
   "metadata": {},
   "outputs": [],
   "source": [
    "fpr_tr, tpr_tr, _ = metrics.roc_curve(y_train,pd.DataFrame(lr.predict(x_train_scaled)))\n",
    "auc_tr = round(metrics.roc_auc_score(y_train,pd.DataFrame(lr.predict(x_train_scaled))),3)\n",
    "\n",
    "fpr_tt, tpr_tt, _ = metrics.roc_curve(y_test, pred_vals_df)\n",
    "auc_tt = round(metrics.roc_auc_score(y_test, pred_vals_df),3)\n",
    "\n",
    "print(\"AUC score train and test : \",auc_tr, auc_tt)\n",
    "\n",
    "plt.figure(figsize=(7,5))\n",
    "plt.title(\"ROC-AUC curve\")\n",
    "plt.plot(fpr_tr,tpr_tr, label=\"auc_tr=\"+str(auc_tr))\n",
    "plt.plot(fpr_tt,tpr_tt, label=\"auc_tt=\"+str(auc_tt))\n",
    "plt.xlabel(\"False Positive Rate (FPR)\")\n",
    "plt.ylabel(\"True Positive Rate (TPR)\")\n",
    "plt.legend(loc=4)\n",
    "plt.show()"
   ]
  },
  {
   "cell_type": "markdown",
   "metadata": {},
   "source": [
    "### Note: Model performance can be improved through parameter tuning, using different algorithms etc. "
   ]
  }
 ],
 "metadata": {
  "kernelspec": {
   "display_name": "Python 3",
   "language": "python",
   "name": "python3"
  },
  "language_info": {
   "codemirror_mode": {
    "name": "ipython",
    "version": 3
   },
   "file_extension": ".py",
   "mimetype": "text/x-python",
   "name": "python",
   "nbconvert_exporter": "python",
   "pygments_lexer": "ipython3",
   "version": "3.7.1"
  }
 },
 "nbformat": 4,
 "nbformat_minor": 2
}
